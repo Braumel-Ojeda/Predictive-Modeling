{
 "cells": [
  {
   "cell_type": "code",
   "execution_count": 1,
   "metadata": {},
   "outputs": [],
   "source": [
    "# Execute if necessary\n",
    "# %%capture\n",
    "# !pip install numpy seaborn matplotlib pandas openml"
   ]
  },
  {
   "cell_type": "code",
   "execution_count": 2,
   "metadata": {},
   "outputs": [],
   "source": [
    "import numpy as np\n",
    "import seaborn as sns\n",
    "import matplotlib.pyplot as plt\n",
    "import pandas as pd\n",
    "from typing import Dict, Tuple, Union, List\n",
    "import openml\n",
    "import sklearn"
   ]
  },
  {
   "cell_type": "markdown",
   "metadata": {},
   "source": [
    "# Práctica 4: Overfitting"
   ]
  },
  {
   "cell_type": "markdown",
   "metadata": {},
   "source": [
    "__Instrucciones__: A continuación hay una lista de funciones que debe implementar o tareas que debe desarrollar. La descripción de cada una de ellas se encuentra en la definición de cada una de las funciones. Cada función está marcada por &#x1F625;,  &#x1F643; o &#x1F921;. Las marcas indican:\n",
    "\n",
    "- &#x1F625;: Indican una entrega que debe ser hecha dentro de la misma sesión de la asignación. \n",
    "- &#x1F643;: Indican una entrega que puede ser hecha hasta la siguiente sesión.\n",
    "- &#x1F921;: Debe mostrar un avance en la misma sesión, pero la entrega puede ser hecha en la siguiente.\n",
    "\n",
    "Aquellas entregas parciales que no sean hechas el día de la asignación ya no serán válidas para las entregas totales, sin embargo, las entregas totales seguirán siendo válidas."
   ]
  },
  {
   "cell_type": "markdown",
   "metadata": {},
   "source": [
    "En esta sección se incluye un dataset real. El dataset importado se llama LDPA y puede leer su descripción en la siguiente liga\n",
    "\n",
    "https://www.openml.org/d/1483"
   ]
  },
  {
   "cell_type": "code",
   "execution_count": 3,
   "metadata": {},
   "outputs": [],
   "source": [
    "# Descarga la metadata del dataset\n",
    "dataset_info = openml.datasets.get_dataset(1483, download_data=False)\n",
    "\n",
    "# Obtiene el nombre de la columna a predecir\n",
    "target = dataset_info.default_target_attribute\n",
    "\n",
    "(\n",
    "    features, # Dataframe con las características que se pueden utilizar para predecir\n",
    "    outputs, # Columna a predecir\n",
    "    categorical_mask, # Máscara que indica que columnas de todas las características son categoricas\n",
    "    columns # Lista con el nombre de las características\n",
    ")= dataset_info.get_data(\n",
    "    dataset_format=\"dataframe\", target=target\n",
    ")\n",
    "\n",
    "categorical_mask = np.array(categorical_mask)\n",
    "columns = np.array(columns)"
   ]
  },
  {
   "cell_type": "code",
   "execution_count": 4,
   "metadata": {},
   "outputs": [
    {
     "name": "stdout",
     "output_type": "stream",
     "text": [
      "La columna a predecir se llama 'Class'\n",
      "Todas las características son ['V1' 'V2' 'V3' 'V4' 'V5' 'V6' 'V7']\n",
      "Las características categóricas son ['V1' 'V2']\n",
      "Las características numéricas son ['V3' 'V4' 'V5' 'V6' 'V7']\n"
     ]
    }
   ],
   "source": [
    "print(f\"La columna a predecir se llama '{target}'\")\n",
    "print(f\"Todas las características son {str(columns)}\")\n",
    "print(f\"Las características categóricas son {str(columns[categorical_mask])}\")\n",
    "print(f\"Las características numéricas son {str(columns[~categorical_mask])}\")"
   ]
  },
  {
   "cell_type": "code",
   "execution_count": 5,
   "metadata": {},
   "outputs": [
    {
     "data": {
      "text/html": [
       "<div>\n",
       "<style scoped>\n",
       "    .dataframe tbody tr th:only-of-type {\n",
       "        vertical-align: middle;\n",
       "    }\n",
       "\n",
       "    .dataframe tbody tr th {\n",
       "        vertical-align: top;\n",
       "    }\n",
       "\n",
       "    .dataframe thead th {\n",
       "        text-align: right;\n",
       "    }\n",
       "</style>\n",
       "<table border=\"1\" class=\"dataframe\">\n",
       "  <thead>\n",
       "    <tr style=\"text-align: right;\">\n",
       "      <th></th>\n",
       "      <th>V1</th>\n",
       "      <th>V2</th>\n",
       "      <th>V3</th>\n",
       "      <th>V4</th>\n",
       "      <th>V5</th>\n",
       "      <th>V6</th>\n",
       "      <th>V7</th>\n",
       "    </tr>\n",
       "  </thead>\n",
       "  <tbody>\n",
       "    <tr>\n",
       "      <th>0</th>\n",
       "      <td>1</td>\n",
       "      <td>1</td>\n",
       "      <td>105794.0</td>\n",
       "      <td>105777.0</td>\n",
       "      <td>148933.0</td>\n",
       "      <td>108479.0</td>\n",
       "      <td>109365.0</td>\n",
       "    </tr>\n",
       "    <tr>\n",
       "      <th>1</th>\n",
       "      <td>1</td>\n",
       "      <td>4</td>\n",
       "      <td>105795.0</td>\n",
       "      <td>105778.0</td>\n",
       "      <td>155325.0</td>\n",
       "      <td>96952.0</td>\n",
       "      <td>161363.0</td>\n",
       "    </tr>\n",
       "    <tr>\n",
       "      <th>2</th>\n",
       "      <td>1</td>\n",
       "      <td>3</td>\n",
       "      <td>105796.0</td>\n",
       "      <td>105779.0</td>\n",
       "      <td>156652.0</td>\n",
       "      <td>101610.0</td>\n",
       "      <td>148870.0</td>\n",
       "    </tr>\n",
       "    <tr>\n",
       "      <th>3</th>\n",
       "      <td>1</td>\n",
       "      <td>1</td>\n",
       "      <td>105797.0</td>\n",
       "      <td>105780.0</td>\n",
       "      <td>149736.0</td>\n",
       "      <td>107135.0</td>\n",
       "      <td>102479.0</td>\n",
       "    </tr>\n",
       "    <tr>\n",
       "      <th>4</th>\n",
       "      <td>1</td>\n",
       "      <td>2</td>\n",
       "      <td>105798.0</td>\n",
       "      <td>105781.0</td>\n",
       "      <td>155978.0</td>\n",
       "      <td>125455.0</td>\n",
       "      <td>106203.0</td>\n",
       "    </tr>\n",
       "    <tr>\n",
       "      <th>...</th>\n",
       "      <td>...</td>\n",
       "      <td>...</td>\n",
       "      <td>...</td>\n",
       "      <td>...</td>\n",
       "      <td>...</td>\n",
       "      <td>...</td>\n",
       "      <td>...</td>\n",
       "    </tr>\n",
       "    <tr>\n",
       "      <th>164855</th>\n",
       "      <td>5</td>\n",
       "      <td>2</td>\n",
       "      <td>43687.0</td>\n",
       "      <td>43679.0</td>\n",
       "      <td>106611.0</td>\n",
       "      <td>123166.0</td>\n",
       "      <td>12432.0</td>\n",
       "    </tr>\n",
       "    <tr>\n",
       "      <th>164856</th>\n",
       "      <td>5</td>\n",
       "      <td>1</td>\n",
       "      <td>43688.0</td>\n",
       "      <td>43680.0</td>\n",
       "      <td>120821.0</td>\n",
       "      <td>119848.0</td>\n",
       "      <td>87463.0</td>\n",
       "    </tr>\n",
       "    <tr>\n",
       "      <th>164857</th>\n",
       "      <td>5</td>\n",
       "      <td>4</td>\n",
       "      <td>43689.0</td>\n",
       "      <td>43681.0</td>\n",
       "      <td>104999.0</td>\n",
       "      <td>110823.0</td>\n",
       "      <td>161536.0</td>\n",
       "    </tr>\n",
       "    <tr>\n",
       "      <th>164858</th>\n",
       "      <td>5</td>\n",
       "      <td>2</td>\n",
       "      <td>43690.0</td>\n",
       "      <td>43682.0</td>\n",
       "      <td>102191.0</td>\n",
       "      <td>112520.0</td>\n",
       "      <td>10811.0</td>\n",
       "    </tr>\n",
       "    <tr>\n",
       "      <th>164859</th>\n",
       "      <td>5</td>\n",
       "      <td>1</td>\n",
       "      <td>43691.0</td>\n",
       "      <td>43683.0</td>\n",
       "      <td>106656.0</td>\n",
       "      <td>113422.0</td>\n",
       "      <td>80572.0</td>\n",
       "    </tr>\n",
       "  </tbody>\n",
       "</table>\n",
       "<p>164860 rows × 7 columns</p>\n",
       "</div>"
      ],
      "text/plain": [
       "       V1 V2        V3        V4        V5        V6        V7\n",
       "0       1  1  105794.0  105777.0  148933.0  108479.0  109365.0\n",
       "1       1  4  105795.0  105778.0  155325.0   96952.0  161363.0\n",
       "2       1  3  105796.0  105779.0  156652.0  101610.0  148870.0\n",
       "3       1  1  105797.0  105780.0  149736.0  107135.0  102479.0\n",
       "4       1  2  105798.0  105781.0  155978.0  125455.0  106203.0\n",
       "...    .. ..       ...       ...       ...       ...       ...\n",
       "164855  5  2   43687.0   43679.0  106611.0  123166.0   12432.0\n",
       "164856  5  1   43688.0   43680.0  120821.0  119848.0   87463.0\n",
       "164857  5  4   43689.0   43681.0  104999.0  110823.0  161536.0\n",
       "164858  5  2   43690.0   43682.0  102191.0  112520.0   10811.0\n",
       "164859  5  1   43691.0   43683.0  106656.0  113422.0   80572.0\n",
       "\n",
       "[164860 rows x 7 columns]"
      ]
     },
     "execution_count": 5,
     "metadata": {},
     "output_type": "execute_result"
    }
   ],
   "source": [
    "# Impresión de las características\n",
    "features"
   ]
  },
  {
   "cell_type": "code",
   "execution_count": 6,
   "metadata": {},
   "outputs": [
    {
     "data": {
      "text/plain": [
       "0         3\n",
       "1         3\n",
       "2         3\n",
       "3         3\n",
       "4         3\n",
       "         ..\n",
       "164855    3\n",
       "164856    3\n",
       "164857    3\n",
       "164858    3\n",
       "164859    3\n",
       "Name: Class, Length: 164860, dtype: category\n",
       "Categories (11, object): ['1' < '2' < '3' < '4' ... '8' < '9' < '10' < '11']"
      ]
     },
     "execution_count": 6,
     "metadata": {},
     "output_type": "execute_result"
    }
   ],
   "source": [
    "outputs"
   ]
  },
  {
   "cell_type": "markdown",
   "metadata": {},
   "source": [
    "A continuación se realiza la partición de __train__ y __test__. __No debe utilizar la partición de test por ningún motivo__."
   ]
  },
  {
   "cell_type": "code",
   "execution_count": 7,
   "metadata": {},
   "outputs": [],
   "source": [
    "X_train, X_test, y_train, y_test = sklearn.model_selection.train_test_split(\n",
    "    features, \n",
    "    outputs, \n",
    "    test_size=0.5, \n",
    "    random_state=11\n",
    ")"
   ]
  },
  {
   "cell_type": "code",
   "execution_count": 8,
   "metadata": {},
   "outputs": [],
   "source": [
    "#X_train.index.values"
   ]
  },
  {
   "cell_type": "markdown",
   "metadata": {},
   "source": [
    "## Asignación 1 &#x1F921;\n",
    "\n",
    "Utilizando las técnicas vistas en clase, realicé su mejor esfuerzo para obtener el mejor modelo lineal posible utilizando __únicamente el conjunto de entrenamiento__ (X_train y y_train). Puede utilizar bibliotecas, pero únicamente las técnicas vistas en clase y debe ir generando métricas o visualizaciones que respalden su toma de decisiones. Debe tener e imprimir una estimación de $E_{out}$ utilizando su conjunto de entrenamiento. La métrica utilizada será la entropía cruzada."
   ]
  },
  {
   "cell_type": "markdown",
   "metadata": {},
   "source": [
    "### EDA"
   ]
  },
  {
   "cell_type": "code",
   "execution_count": 9,
   "metadata": {},
   "outputs": [],
   "source": [
    "def check_nans(df):\n",
    "    for c in list(df.columns.values):\n",
    "        print(c + ' NaNs -> ' + str(df[c].isnull().sum()))"
   ]
  },
  {
   "cell_type": "code",
   "execution_count": 10,
   "metadata": {},
   "outputs": [],
   "source": [
    "def plot_hist(column):\n",
    "    skewness = calc_skewness(column)\n",
    "    __fig__, __axs__ = plt.subplots(ncols=1, figsize=(15, 5))\n",
    "    __fig__.subplots_adjust(hspace=0.1, wspace=0.3)\n",
    "    \n",
    "    __axs__.set(title=\"Column (mean = {}, std = {}, skewness = {})\".format(round(column.mean(), 2), round(column.std(), 2), round(skewness, 2)))\n",
    "    _ = sns.histplot(x=column, ax=__axs__)\n",
    "    _.axvline(x=column.mean(),\n",
    "                color='blue',\n",
    "                ls='--', \n",
    "                lw=2.5)"
   ]
  },
  {
   "cell_type": "code",
   "execution_count": 11,
   "metadata": {},
   "outputs": [],
   "source": [
    "def calc_skewness(x):\n",
    "    return (((x - x.mean()) / (x.var() ** (1/2))) ** 3).mean()"
   ]
  },
  {
   "cell_type": "code",
   "execution_count": 12,
   "metadata": {},
   "outputs": [
    {
     "name": "stdout",
     "output_type": "stream",
     "text": [
      "V1 NaNs -> 0\n",
      "V2 NaNs -> 0\n",
      "V3 NaNs -> 0\n",
      "V4 NaNs -> 0\n",
      "V5 NaNs -> 0\n",
      "V6 NaNs -> 0\n",
      "V7 NaNs -> 0\n"
     ]
    }
   ],
   "source": [
    "check_nans(X_train)"
   ]
  },
  {
   "cell_type": "markdown",
   "metadata": {},
   "source": [
    "#### Visualizamos el histograma de las columnas numéricas"
   ]
  },
  {
   "cell_type": "code",
   "execution_count": 13,
   "metadata": {},
   "outputs": [
    {
     "data": {
      "image/png": "[encoded data removed]",
      "text/plain": [
       "<Figure size 1080x360 with 1 Axes>"
      ]
     },
     "metadata": {
      "needs_background": "light"
     },
     "output_type": "display_data"
    }
   ],
   "source": [
    "plot_hist(X_train.V3)"
   ]
  },
  {
   "cell_type": "code",
   "execution_count": 14,
   "metadata": {},
   "outputs": [
    {
     "data": {
      "image/png": "[encoded data removed]",
      "text/plain": [
       "<Figure size 1080x360 with 1 Axes>"
      ]
     },
     "metadata": {
      "needs_background": "light"
     },
     "output_type": "display_data"
    }
   ],
   "source": [
    "plot_hist(X_train.V4)"
   ]
  },
  {
   "cell_type": "code",
   "execution_count": 15,
   "metadata": {},
   "outputs": [
    {
     "data": {
      "image/png": "[encoded data removed]",
      "text/plain": [
       "<Figure size 1080x360 with 1 Axes>"
      ]
     },
     "metadata": {
      "needs_background": "light"
     },
     "output_type": "display_data"
    }
   ],
   "source": [
    "plot_hist(X_train.V5)"
   ]
  },
  {
   "cell_type": "code",
   "execution_count": 16,
   "metadata": {
    "scrolled": true
   },
   "outputs": [
    {
     "data": {
      "image/png": "[encoded data removed]",
      "text/plain": [
       "<Figure size 1080x360 with 1 Axes>"
      ]
     },
     "metadata": {
      "needs_background": "light"
     },
     "output_type": "display_data"
    }
   ],
   "source": [
    "plot_hist(X_train.V6)"
   ]
  },
  {
   "cell_type": "markdown",
   "metadata": {},
   "source": [
    "### Undersampling"
   ]
  },
  {
   "cell_type": "code",
   "execution_count": 17,
   "metadata": {},
   "outputs": [
    {
     "data": {
      "text/plain": [
       "[27168, 16359, 13621, 9275, 5884, 3045, 2665, 1497, 1360, 852, 704]"
      ]
     },
     "execution_count": 17,
     "metadata": {},
     "output_type": "execute_result"
    }
   ],
   "source": [
    "counts_ls = list(y_train.value_counts())\n",
    "counts_ls"
   ]
  },
  {
   "cell_type": "code",
   "execution_count": 18,
   "metadata": {},
   "outputs": [],
   "source": [
    "counts_ls_prob = [elem / sum(counts_ls) for elem in counts_ls]"
   ]
  },
  {
   "cell_type": "code",
   "execution_count": 19,
   "metadata": {},
   "outputs": [],
   "source": [
    "class_ls = list(y_train.value_counts().index)"
   ]
  },
  {
   "cell_type": "code",
   "execution_count": 20,
   "metadata": {
    "scrolled": true
   },
   "outputs": [
    {
     "data": {
      "text/plain": [
       "{'4': 0.3295887419628776,\n",
       " '3': 0.19845929879898094,\n",
       " '7': 0.1652432366856727,\n",
       " '10': 0.11251971369646974,\n",
       " '9': 0.0713817784787092,\n",
       " '5': 0.03694043430789761,\n",
       " '6': 0.0323304622103603,\n",
       " '1': 0.01816086376319301,\n",
       " '2': 0.016498847506975615,\n",
       " '8': 0.01033604270289943,\n",
       " '11': 0.008540579885963849}"
      ]
     },
     "execution_count": 20,
     "metadata": {},
     "output_type": "execute_result"
    }
   ],
   "source": [
    "dict_class = {class_ls[i]: counts_ls_prob[i] for i in range(len(counts_ls_prob))}\n",
    "dict_class"
   ]
  },
  {
   "cell_type": "markdown",
   "metadata": {},
   "source": [
    "#### First version (difference)"
   ]
  },
  {
   "cell_type": "code",
   "execution_count": 21,
   "metadata": {},
   "outputs": [],
   "source": [
    "def exp_dist(x, l):\n",
    "    return l * np.exp(-l * x)"
   ]
  },
  {
   "cell_type": "code",
   "execution_count": 22,
   "metadata": {},
   "outputs": [],
   "source": [
    "x_pts = np.linspace(0, 10, 11)"
   ]
  },
  {
   "cell_type": "code",
   "execution_count": 23,
   "metadata": {},
   "outputs": [],
   "source": [
    "y_pts = exp_dist(x_pts, 0.32)"
   ]
  },
  {
   "cell_type": "code",
   "execution_count": 24,
   "metadata": {},
   "outputs": [],
   "source": [
    "factors_diff = [(1 - y ** 0.5) for y in y_pts]"
   ]
  },
  {
   "cell_type": "code",
   "execution_count": 25,
   "metadata": {},
   "outputs": [],
   "source": [
    "y_factor = [y_pts[i] * factors_diff[i] for i in range(len(y_pts))]"
   ]
  },
  {
   "cell_type": "code",
   "execution_count": 26,
   "metadata": {},
   "outputs": [
    {
     "data": {
      "image/png": "[encoded data removed]",
      "text/plain": [
       "<Figure size 720x360 with 1 Axes>"
      ]
     },
     "metadata": {
      "needs_background": "light"
     },
     "output_type": "display_data"
    }
   ],
   "source": [
    "fig = plt.figure(figsize = (10, 5))\n",
    "ypoints = np.array([3, 8, 1, 10000])\n",
    "plt.plot(y_pts, linestyle = 'dotted')\n",
    "plt.bar(class_ls, counts_ls_prob, color ='maroon',\n",
    "        width = 0.4)\n",
    "plt.bar(class_ls, y_factor, color ='blue',\n",
    "        width = 0.4)\n",
    "plt.show()"
   ]
  },
  {
   "cell_type": "code",
   "execution_count": 27,
   "metadata": {},
   "outputs": [
    {
     "data": {
      "text/plain": [
       "{'4': 11799,\n",
       " '3': 8473,\n",
       " '7': 8025,\n",
       " '10': 6028,\n",
       " '9': 4128,\n",
       " '5': 2271,\n",
       " '6': 2087,\n",
       " '1': 1220,\n",
       " '2': 1146,\n",
       " '8': 737,\n",
       " '11': 623}"
      ]
     },
     "execution_count": 27,
     "metadata": {},
     "output_type": "execute_result"
    }
   ],
   "source": [
    "dict_class_factors_diff = {class_ls[i]: int(factors_diff[i] * counts_ls[i]) for i in range(len(counts_ls))}\n",
    "dict_class_factors_diff"
   ]
  },
  {
   "cell_type": "markdown",
   "metadata": {},
   "source": [
    "#### Second version"
   ]
  },
  {
   "cell_type": "code",
   "execution_count": 28,
   "metadata": {},
   "outputs": [],
   "source": [
    "log_transform = np.log(counts_ls)"
   ]
  },
  {
   "cell_type": "code",
   "execution_count": 29,
   "metadata": {},
   "outputs": [
    {
     "data": {
      "text/plain": [
       "array([10.20979509,  9.70253348,  9.519368  ,  9.13507789,  8.67999208,\n",
       "        8.02125618,  7.88795934,  7.31121838,  7.21523998,  6.74758653,\n",
       "        6.55677836])"
      ]
     },
     "execution_count": 29,
     "metadata": {},
     "output_type": "execute_result"
    }
   ],
   "source": [
    "log_transform"
   ]
  },
  {
   "cell_type": "code",
   "execution_count": 30,
   "metadata": {},
   "outputs": [],
   "source": [
    "factors_log = [elem / np.sum(log_transform) for elem in log_transform]"
   ]
  },
  {
   "cell_type": "code",
   "execution_count": 31,
   "metadata": {},
   "outputs": [
    {
     "data": {
      "text/plain": [
       "[0.11221182076989097,\n",
       " 0.10663670903993894,\n",
       " 0.10462360961814479,\n",
       " 0.10040002896058695,\n",
       " 0.09539836081499542,\n",
       " 0.0881584549914865,\n",
       " 0.08669344209099158,\n",
       " 0.0803547103346867,\n",
       " 0.07929984962856931,\n",
       " 0.07416005545355417,\n",
       " 0.07206295829715474]"
      ]
     },
     "execution_count": 31,
     "metadata": {},
     "output_type": "execute_result"
    }
   ],
   "source": [
    "factors_log"
   ]
  },
  {
   "cell_type": "code",
   "execution_count": 32,
   "metadata": {},
   "outputs": [
    {
     "data": {
      "text/plain": [
       "0.07206295829715474"
      ]
     },
     "execution_count": 32,
     "metadata": {},
     "output_type": "execute_result"
    }
   ],
   "source": [
    "min_factors_log = min(factors_log)\n",
    "min_factors_log"
   ]
  },
  {
   "cell_type": "code",
   "execution_count": 33,
   "metadata": {},
   "outputs": [
    {
     "data": {
      "text/plain": [
       "704"
      ]
     },
     "execution_count": 33,
     "metadata": {},
     "output_type": "execute_result"
    }
   ],
   "source": [
    "min_counts_ls = min(counts_ls)\n",
    "min_counts_ls"
   ]
  },
  {
   "cell_type": "code",
   "execution_count": 34,
   "metadata": {},
   "outputs": [
    {
     "data": {
      "text/plain": [
       "{'4': 1096,\n",
       " '3': 1041,\n",
       " '7': 1022,\n",
       " '10': 980,\n",
       " '9': 931,\n",
       " '5': 861,\n",
       " '6': 846,\n",
       " '1': 785,\n",
       " '2': 774,\n",
       " '8': 724,\n",
       " '11': 704}"
      ]
     },
     "execution_count": 34,
     "metadata": {},
     "output_type": "execute_result"
    }
   ],
   "source": [
    "dict_class_factors_log = {class_ls[i]: int(min_counts_ls * factors_log[i] / min_factors_log) for i in range(len(counts_ls))}\n",
    "dict_class_factors_log"
   ]
  },
  {
   "cell_type": "code",
   "execution_count": 35,
   "metadata": {},
   "outputs": [],
   "source": [
    "from imblearn.under_sampling import RandomUnderSampler"
   ]
  },
  {
   "cell_type": "code",
   "execution_count": 36,
   "metadata": {},
   "outputs": [],
   "source": [
    "undersample = RandomUnderSampler(sampling_strategy=dict_class_factors_diff)"
   ]
  },
  {
   "cell_type": "code",
   "execution_count": 37,
   "metadata": {},
   "outputs": [],
   "source": [
    "X_train_und, y_train_und = undersample.fit_resample(X_train, y_train)"
   ]
  },
  {
   "cell_type": "code",
   "execution_count": 38,
   "metadata": {},
   "outputs": [
    {
     "data": {
      "text/html": [
       "<div>\n",
       "<style scoped>\n",
       "    .dataframe tbody tr th:only-of-type {\n",
       "        vertical-align: middle;\n",
       "    }\n",
       "\n",
       "    .dataframe tbody tr th {\n",
       "        vertical-align: top;\n",
       "    }\n",
       "\n",
       "    .dataframe thead th {\n",
       "        text-align: right;\n",
       "    }\n",
       "</style>\n",
       "<table border=\"1\" class=\"dataframe\">\n",
       "  <thead>\n",
       "    <tr style=\"text-align: right;\">\n",
       "      <th></th>\n",
       "      <th>V1</th>\n",
       "      <th>V2</th>\n",
       "      <th>V3</th>\n",
       "      <th>V4</th>\n",
       "      <th>V5</th>\n",
       "      <th>V6</th>\n",
       "      <th>V7</th>\n",
       "    </tr>\n",
       "  </thead>\n",
       "  <tbody>\n",
       "    <tr>\n",
       "      <th>0</th>\n",
       "      <td>2</td>\n",
       "      <td>1</td>\n",
       "      <td>100771.0</td>\n",
       "      <td>100755.0</td>\n",
       "      <td>85440.0</td>\n",
       "      <td>53590.0</td>\n",
       "      <td>106704.0</td>\n",
       "    </tr>\n",
       "    <tr>\n",
       "      <th>1</th>\n",
       "      <td>5</td>\n",
       "      <td>2</td>\n",
       "      <td>38675.0</td>\n",
       "      <td>38667.0</td>\n",
       "      <td>88651.0</td>\n",
       "      <td>12525.0</td>\n",
       "      <td>42315.0</td>\n",
       "    </tr>\n",
       "    <tr>\n",
       "      <th>2</th>\n",
       "      <td>5</td>\n",
       "      <td>2</td>\n",
       "      <td>30019.0</td>\n",
       "      <td>30015.0</td>\n",
       "      <td>122387.0</td>\n",
       "      <td>60282.0</td>\n",
       "      <td>3730.0</td>\n",
       "    </tr>\n",
       "    <tr>\n",
       "      <th>3</th>\n",
       "      <td>3</td>\n",
       "      <td>3</td>\n",
       "      <td>154610.0</td>\n",
       "      <td>154586.0</td>\n",
       "      <td>139524.0</td>\n",
       "      <td>39150.0</td>\n",
       "      <td>143536.0</td>\n",
       "    </tr>\n",
       "    <tr>\n",
       "      <th>4</th>\n",
       "      <td>2</td>\n",
       "      <td>1</td>\n",
       "      <td>94768.0</td>\n",
       "      <td>94753.0</td>\n",
       "      <td>72859.0</td>\n",
       "      <td>59888.0</td>\n",
       "      <td>88129.0</td>\n",
       "    </tr>\n",
       "    <tr>\n",
       "      <th>...</th>\n",
       "      <td>...</td>\n",
       "      <td>...</td>\n",
       "      <td>...</td>\n",
       "      <td>...</td>\n",
       "      <td>...</td>\n",
       "      <td>...</td>\n",
       "      <td>...</td>\n",
       "    </tr>\n",
       "    <tr>\n",
       "      <th>46532</th>\n",
       "      <td>3</td>\n",
       "      <td>3</td>\n",
       "      <td>156222.0</td>\n",
       "      <td>156198.0</td>\n",
       "      <td>112469.0</td>\n",
       "      <td>49884.0</td>\n",
       "      <td>91514.0</td>\n",
       "    </tr>\n",
       "    <tr>\n",
       "      <th>46533</th>\n",
       "      <td>1</td>\n",
       "      <td>3</td>\n",
       "      <td>115353.0</td>\n",
       "      <td>115335.0</td>\n",
       "      <td>127087.0</td>\n",
       "      <td>26900.0</td>\n",
       "      <td>115461.0</td>\n",
       "    </tr>\n",
       "    <tr>\n",
       "      <th>46534</th>\n",
       "      <td>3</td>\n",
       "      <td>2</td>\n",
       "      <td>156390.0</td>\n",
       "      <td>156366.0</td>\n",
       "      <td>142260.0</td>\n",
       "      <td>31039.0</td>\n",
       "      <td>86380.0</td>\n",
       "    </tr>\n",
       "    <tr>\n",
       "      <th>46535</th>\n",
       "      <td>4</td>\n",
       "      <td>4</td>\n",
       "      <td>49002.0</td>\n",
       "      <td>48994.0</td>\n",
       "      <td>135858.0</td>\n",
       "      <td>12496.0</td>\n",
       "      <td>100000.0</td>\n",
       "    </tr>\n",
       "    <tr>\n",
       "      <th>46536</th>\n",
       "      <td>4</td>\n",
       "      <td>3</td>\n",
       "      <td>49226.0</td>\n",
       "      <td>49218.0</td>\n",
       "      <td>108360.0</td>\n",
       "      <td>7740.0</td>\n",
       "      <td>99851.0</td>\n",
       "    </tr>\n",
       "  </tbody>\n",
       "</table>\n",
       "<p>46537 rows × 7 columns</p>\n",
       "</div>"
      ],
      "text/plain": [
       "      V1 V2        V3        V4        V5       V6        V7\n",
       "0      2  1  100771.0  100755.0   85440.0  53590.0  106704.0\n",
       "1      5  2   38675.0   38667.0   88651.0  12525.0   42315.0\n",
       "2      5  2   30019.0   30015.0  122387.0  60282.0    3730.0\n",
       "3      3  3  154610.0  154586.0  139524.0  39150.0  143536.0\n",
       "4      2  1   94768.0   94753.0   72859.0  59888.0   88129.0\n",
       "...   .. ..       ...       ...       ...      ...       ...\n",
       "46532  3  3  156222.0  156198.0  112469.0  49884.0   91514.0\n",
       "46533  1  3  115353.0  115335.0  127087.0  26900.0  115461.0\n",
       "46534  3  2  156390.0  156366.0  142260.0  31039.0   86380.0\n",
       "46535  4  4   49002.0   48994.0  135858.0  12496.0  100000.0\n",
       "46536  4  3   49226.0   49218.0  108360.0   7740.0   99851.0\n",
       "\n",
       "[46537 rows x 7 columns]"
      ]
     },
     "execution_count": 38,
     "metadata": {},
     "output_type": "execute_result"
    }
   ],
   "source": [
    "X_train_und"
   ]
  },
  {
   "cell_type": "code",
   "execution_count": 39,
   "metadata": {},
   "outputs": [
    {
     "data": {
      "text/plain": [
       "0        1\n",
       "1        1\n",
       "2        1\n",
       "3        1\n",
       "4        1\n",
       "        ..\n",
       "46532    9\n",
       "46533    9\n",
       "46534    9\n",
       "46535    9\n",
       "46536    9\n",
       "Name: Class, Length: 46537, dtype: category\n",
       "Categories (11, object): ['1' < '2' < '3' < '4' ... '8' < '9' < '10' < '11']"
      ]
     },
     "execution_count": 39,
     "metadata": {},
     "output_type": "execute_result"
    }
   ],
   "source": [
    "y_train_und"
   ]
  },
  {
   "cell_type": "code",
   "execution_count": 40,
   "metadata": {},
   "outputs": [
    {
     "data": {
      "image/png": "[encoded data removed]",
      "text/plain": [
       "<Figure size 1080x360 with 2 Axes>"
      ]
     },
     "metadata": {
      "needs_background": "light"
     },
     "output_type": "display_data"
    }
   ],
   "source": [
    "__fig__, __axs__ = plt.subplots(ncols=2, figsize=(15, 5))\n",
    "__fig__.subplots_adjust(hspace=0.1, wspace=0.3)\n",
    "\n",
    "__axs__[0].set(title=\"Undersampling\")\n",
    "_ = sns.histplot(x=y_train_und, ax=__axs__[0])\n",
    "__axs__[1].set(title=\"Original\")\n",
    "_ = sns.histplot(x=y_train, ax=__axs__[1])"
   ]
  },
  {
   "cell_type": "markdown",
   "metadata": {},
   "source": [
    "### Kmeans para agrupar clases"
   ]
  },
  {
   "cell_type": "code",
   "execution_count": 41,
   "metadata": {},
   "outputs": [],
   "source": [
    "from sklearn.cluster import KMeans\n",
    "from sklearn.metrics import pairwise_distances_argmin_min"
   ]
  },
  {
   "cell_type": "code",
   "execution_count": 42,
   "metadata": {},
   "outputs": [],
   "source": [
    "distortions = []\n",
    "K = range(1,10)\n",
    "for k in K:\n",
    "    kmeanModel = KMeans(n_clusters=k)\n",
    "    kmeanModel.fit(X_train)\n",
    "    distortions.append(kmeanModel.inertia_)"
   ]
  },
  {
   "cell_type": "code",
   "execution_count": 43,
   "metadata": {},
   "outputs": [
    {
     "data": {
      "image/png": "[encoded data removed]",
      "text/plain": [
       "<Figure size 1152x576 with 1 Axes>"
      ]
     },
     "metadata": {
      "needs_background": "light"
     },
     "output_type": "display_data"
    }
   ],
   "source": [
    "plt.figure(figsize=(16,8))\n",
    "plt.plot(K, distortions, 'bx-')\n",
    "plt.xlabel('k')\n",
    "plt.ylabel('Distortion')\n",
    "plt.title('The Elbow Method showing the optimal k')\n",
    "plt.show()"
   ]
  },
  {
   "cell_type": "code",
   "execution_count": 44,
   "metadata": {},
   "outputs": [],
   "source": [
    "k_opt = 2"
   ]
  },
  {
   "cell_type": "code",
   "execution_count": 45,
   "metadata": {},
   "outputs": [],
   "source": [
    "km = KMeans(\n",
    "    n_clusters=k_opt, init='random',\n",
    "    n_init=10, max_iter=300, \n",
    "    tol=1e-04, random_state=0\n",
    ")"
   ]
  },
  {
   "cell_type": "code",
   "execution_count": 46,
   "metadata": {},
   "outputs": [],
   "source": [
    "y_km_train = km.fit_predict(X_train)"
   ]
  },
  {
   "cell_type": "code",
   "execution_count": 47,
   "metadata": {},
   "outputs": [
    {
     "data": {
      "text/plain": [
       "array([    0,     1,     2, ..., 46534, 46535, 46536], dtype=int64)"
      ]
     },
     "execution_count": 47,
     "metadata": {},
     "output_type": "execute_result"
    }
   ],
   "source": [
    "indexes_train = X_train.index.values\n",
    "indexes_train"
   ]
  },
  {
   "cell_type": "code",
   "execution_count": 48,
   "metadata": {},
   "outputs": [
    {
     "data": {
      "text/html": [
       "<div>\n",
       "<style scoped>\n",
       "    .dataframe tbody tr th:only-of-type {\n",
       "        vertical-align: middle;\n",
       "    }\n",
       "\n",
       "    .dataframe tbody tr th {\n",
       "        vertical-align: top;\n",
       "    }\n",
       "\n",
       "    .dataframe thead th {\n",
       "        text-align: right;\n",
       "    }\n",
       "</style>\n",
       "<table border=\"1\" class=\"dataframe\">\n",
       "  <thead>\n",
       "    <tr style=\"text-align: right;\">\n",
       "      <th></th>\n",
       "      <th>cluster</th>\n",
       "    </tr>\n",
       "  </thead>\n",
       "  <tbody>\n",
       "    <tr>\n",
       "      <th>0</th>\n",
       "      <td>1</td>\n",
       "    </tr>\n",
       "    <tr>\n",
       "      <th>1</th>\n",
       "      <td>0</td>\n",
       "    </tr>\n",
       "    <tr>\n",
       "      <th>2</th>\n",
       "      <td>0</td>\n",
       "    </tr>\n",
       "    <tr>\n",
       "      <th>3</th>\n",
       "      <td>1</td>\n",
       "    </tr>\n",
       "    <tr>\n",
       "      <th>4</th>\n",
       "      <td>1</td>\n",
       "    </tr>\n",
       "    <tr>\n",
       "      <th>...</th>\n",
       "      <td>...</td>\n",
       "    </tr>\n",
       "    <tr>\n",
       "      <th>46532</th>\n",
       "      <td>1</td>\n",
       "    </tr>\n",
       "    <tr>\n",
       "      <th>46533</th>\n",
       "      <td>1</td>\n",
       "    </tr>\n",
       "    <tr>\n",
       "      <th>46534</th>\n",
       "      <td>1</td>\n",
       "    </tr>\n",
       "    <tr>\n",
       "      <th>46535</th>\n",
       "      <td>0</td>\n",
       "    </tr>\n",
       "    <tr>\n",
       "      <th>46536</th>\n",
       "      <td>0</td>\n",
       "    </tr>\n",
       "  </tbody>\n",
       "</table>\n",
       "<p>46537 rows × 1 columns</p>\n",
       "</div>"
      ],
      "text/plain": [
       "       cluster\n",
       "0            1\n",
       "1            0\n",
       "2            0\n",
       "3            1\n",
       "4            1\n",
       "...        ...\n",
       "46532        1\n",
       "46533        1\n",
       "46534        1\n",
       "46535        0\n",
       "46536        0\n",
       "\n",
       "[46537 rows x 1 columns]"
      ]
     },
     "execution_count": 48,
     "metadata": {},
     "output_type": "execute_result"
    }
   ],
   "source": [
    "y_km_train_df = pd.DataFrame(y_km_train, columns = ['cluster']).set_index(indexes_train, drop=True, append=False, inplace=False, verify_integrity=False)\n",
    "y_km_train_df"
   ]
  },
  {
   "cell_type": "code",
   "execution_count": 49,
   "metadata": {},
   "outputs": [
    {
     "data": {
      "text/html": [
       "<div>\n",
       "<style scoped>\n",
       "    .dataframe tbody tr th:only-of-type {\n",
       "        vertical-align: middle;\n",
       "    }\n",
       "\n",
       "    .dataframe tbody tr th {\n",
       "        vertical-align: top;\n",
       "    }\n",
       "\n",
       "    .dataframe thead th {\n",
       "        text-align: right;\n",
       "    }\n",
       "</style>\n",
       "<table border=\"1\" class=\"dataframe\">\n",
       "  <thead>\n",
       "    <tr style=\"text-align: right;\">\n",
       "      <th></th>\n",
       "      <th>V1</th>\n",
       "      <th>V2</th>\n",
       "      <th>V3</th>\n",
       "      <th>V4</th>\n",
       "      <th>V5</th>\n",
       "      <th>V6</th>\n",
       "      <th>V7</th>\n",
       "      <th>cluster</th>\n",
       "    </tr>\n",
       "  </thead>\n",
       "  <tbody>\n",
       "    <tr>\n",
       "      <th>0</th>\n",
       "      <td>2</td>\n",
       "      <td>1</td>\n",
       "      <td>100771.0</td>\n",
       "      <td>100755.0</td>\n",
       "      <td>85440.0</td>\n",
       "      <td>53590.0</td>\n",
       "      <td>106704.0</td>\n",
       "      <td>1</td>\n",
       "    </tr>\n",
       "    <tr>\n",
       "      <th>1</th>\n",
       "      <td>5</td>\n",
       "      <td>2</td>\n",
       "      <td>38675.0</td>\n",
       "      <td>38667.0</td>\n",
       "      <td>88651.0</td>\n",
       "      <td>12525.0</td>\n",
       "      <td>42315.0</td>\n",
       "      <td>0</td>\n",
       "    </tr>\n",
       "    <tr>\n",
       "      <th>2</th>\n",
       "      <td>5</td>\n",
       "      <td>2</td>\n",
       "      <td>30019.0</td>\n",
       "      <td>30015.0</td>\n",
       "      <td>122387.0</td>\n",
       "      <td>60282.0</td>\n",
       "      <td>3730.0</td>\n",
       "      <td>0</td>\n",
       "    </tr>\n",
       "    <tr>\n",
       "      <th>3</th>\n",
       "      <td>3</td>\n",
       "      <td>3</td>\n",
       "      <td>154610.0</td>\n",
       "      <td>154586.0</td>\n",
       "      <td>139524.0</td>\n",
       "      <td>39150.0</td>\n",
       "      <td>143536.0</td>\n",
       "      <td>1</td>\n",
       "    </tr>\n",
       "    <tr>\n",
       "      <th>4</th>\n",
       "      <td>2</td>\n",
       "      <td>1</td>\n",
       "      <td>94768.0</td>\n",
       "      <td>94753.0</td>\n",
       "      <td>72859.0</td>\n",
       "      <td>59888.0</td>\n",
       "      <td>88129.0</td>\n",
       "      <td>1</td>\n",
       "    </tr>\n",
       "    <tr>\n",
       "      <th>...</th>\n",
       "      <td>...</td>\n",
       "      <td>...</td>\n",
       "      <td>...</td>\n",
       "      <td>...</td>\n",
       "      <td>...</td>\n",
       "      <td>...</td>\n",
       "      <td>...</td>\n",
       "      <td>...</td>\n",
       "    </tr>\n",
       "    <tr>\n",
       "      <th>46532</th>\n",
       "      <td>3</td>\n",
       "      <td>3</td>\n",
       "      <td>156222.0</td>\n",
       "      <td>156198.0</td>\n",
       "      <td>112469.0</td>\n",
       "      <td>49884.0</td>\n",
       "      <td>91514.0</td>\n",
       "      <td>1</td>\n",
       "    </tr>\n",
       "    <tr>\n",
       "      <th>46533</th>\n",
       "      <td>1</td>\n",
       "      <td>3</td>\n",
       "      <td>115353.0</td>\n",
       "      <td>115335.0</td>\n",
       "      <td>127087.0</td>\n",
       "      <td>26900.0</td>\n",
       "      <td>115461.0</td>\n",
       "      <td>1</td>\n",
       "    </tr>\n",
       "    <tr>\n",
       "      <th>46534</th>\n",
       "      <td>3</td>\n",
       "      <td>2</td>\n",
       "      <td>156390.0</td>\n",
       "      <td>156366.0</td>\n",
       "      <td>142260.0</td>\n",
       "      <td>31039.0</td>\n",
       "      <td>86380.0</td>\n",
       "      <td>1</td>\n",
       "    </tr>\n",
       "    <tr>\n",
       "      <th>46535</th>\n",
       "      <td>4</td>\n",
       "      <td>4</td>\n",
       "      <td>49002.0</td>\n",
       "      <td>48994.0</td>\n",
       "      <td>135858.0</td>\n",
       "      <td>12496.0</td>\n",
       "      <td>100000.0</td>\n",
       "      <td>0</td>\n",
       "    </tr>\n",
       "    <tr>\n",
       "      <th>46536</th>\n",
       "      <td>4</td>\n",
       "      <td>3</td>\n",
       "      <td>49226.0</td>\n",
       "      <td>49218.0</td>\n",
       "      <td>108360.0</td>\n",
       "      <td>7740.0</td>\n",
       "      <td>99851.0</td>\n",
       "      <td>0</td>\n",
       "    </tr>\n",
       "  </tbody>\n",
       "</table>\n",
       "<p>46537 rows × 8 columns</p>\n",
       "</div>"
      ],
      "text/plain": [
       "      V1 V2        V3        V4        V5       V6        V7  cluster\n",
       "0      2  1  100771.0  100755.0   85440.0  53590.0  106704.0        1\n",
       "1      5  2   38675.0   38667.0   88651.0  12525.0   42315.0        0\n",
       "2      5  2   30019.0   30015.0  122387.0  60282.0    3730.0        0\n",
       "3      3  3  154610.0  154586.0  139524.0  39150.0  143536.0        1\n",
       "4      2  1   94768.0   94753.0   72859.0  59888.0   88129.0        1\n",
       "...   .. ..       ...       ...       ...      ...       ...      ...\n",
       "46532  3  3  156222.0  156198.0  112469.0  49884.0   91514.0        1\n",
       "46533  1  3  115353.0  115335.0  127087.0  26900.0  115461.0        1\n",
       "46534  3  2  156390.0  156366.0  142260.0  31039.0   86380.0        1\n",
       "46535  4  4   49002.0   48994.0  135858.0  12496.0  100000.0        0\n",
       "46536  4  3   49226.0   49218.0  108360.0   7740.0   99851.0        0\n",
       "\n",
       "[46537 rows x 8 columns]"
      ]
     },
     "execution_count": 49,
     "metadata": {},
     "output_type": "execute_result"
    }
   ],
   "source": [
    "X_train = pd.concat((X_train, y_km_train_df), axis = 1)\n",
    "X_train"
   ]
  },
  {
   "cell_type": "code",
   "execution_count": 50,
   "metadata": {},
   "outputs": [],
   "source": [
    "y_km_test = km.fit_predict(X_test)"
   ]
  },
  {
   "cell_type": "code",
   "execution_count": 51,
   "metadata": {},
   "outputs": [
    {
     "data": {
      "text/plain": [
       "array([  9783,  85013,  70883, ..., 114945,  19389, 155502], dtype=int64)"
      ]
     },
     "execution_count": 51,
     "metadata": {},
     "output_type": "execute_result"
    }
   ],
   "source": [
    "indexes_test = X_test.index.values\n",
    "indexes_test"
   ]
  },
  {
   "cell_type": "code",
   "execution_count": 52,
   "metadata": {},
   "outputs": [
    {
     "data": {
      "text/html": [
       "<div>\n",
       "<style scoped>\n",
       "    .dataframe tbody tr th:only-of-type {\n",
       "        vertical-align: middle;\n",
       "    }\n",
       "\n",
       "    .dataframe tbody tr th {\n",
       "        vertical-align: top;\n",
       "    }\n",
       "\n",
       "    .dataframe thead th {\n",
       "        text-align: right;\n",
       "    }\n",
       "</style>\n",
       "<table border=\"1\" class=\"dataframe\">\n",
       "  <thead>\n",
       "    <tr style=\"text-align: right;\">\n",
       "      <th></th>\n",
       "      <th>cluster</th>\n",
       "    </tr>\n",
       "  </thead>\n",
       "  <tbody>\n",
       "    <tr>\n",
       "      <th>9783</th>\n",
       "      <td>0</td>\n",
       "    </tr>\n",
       "    <tr>\n",
       "      <th>85013</th>\n",
       "      <td>0</td>\n",
       "    </tr>\n",
       "    <tr>\n",
       "      <th>70883</th>\n",
       "      <td>0</td>\n",
       "    </tr>\n",
       "    <tr>\n",
       "      <th>64466</th>\n",
       "      <td>0</td>\n",
       "    </tr>\n",
       "    <tr>\n",
       "      <th>82448</th>\n",
       "      <td>0</td>\n",
       "    </tr>\n",
       "    <tr>\n",
       "      <th>...</th>\n",
       "      <td>...</td>\n",
       "    </tr>\n",
       "    <tr>\n",
       "      <th>102897</th>\n",
       "      <td>1</td>\n",
       "    </tr>\n",
       "    <tr>\n",
       "      <th>40732</th>\n",
       "      <td>0</td>\n",
       "    </tr>\n",
       "    <tr>\n",
       "      <th>114945</th>\n",
       "      <td>1</td>\n",
       "    </tr>\n",
       "    <tr>\n",
       "      <th>19389</th>\n",
       "      <td>0</td>\n",
       "    </tr>\n",
       "    <tr>\n",
       "      <th>155502</th>\n",
       "      <td>1</td>\n",
       "    </tr>\n",
       "  </tbody>\n",
       "</table>\n",
       "<p>82430 rows × 1 columns</p>\n",
       "</div>"
      ],
      "text/plain": [
       "        cluster\n",
       "9783          0\n",
       "85013         0\n",
       "70883         0\n",
       "64466         0\n",
       "82448         0\n",
       "...         ...\n",
       "102897        1\n",
       "40732         0\n",
       "114945        1\n",
       "19389         0\n",
       "155502        1\n",
       "\n",
       "[82430 rows x 1 columns]"
      ]
     },
     "execution_count": 52,
     "metadata": {},
     "output_type": "execute_result"
    }
   ],
   "source": [
    "y_km_test_df = pd.DataFrame(y_km_test, columns = ['cluster']).set_index(indexes_test, drop=True, append=False, inplace=False, verify_integrity=False)\n",
    "y_km_test_df"
   ]
  },
  {
   "cell_type": "code",
   "execution_count": 53,
   "metadata": {},
   "outputs": [
    {
     "data": {
      "text/html": [
       "<div>\n",
       "<style scoped>\n",
       "    .dataframe tbody tr th:only-of-type {\n",
       "        vertical-align: middle;\n",
       "    }\n",
       "\n",
       "    .dataframe tbody tr th {\n",
       "        vertical-align: top;\n",
       "    }\n",
       "\n",
       "    .dataframe thead th {\n",
       "        text-align: right;\n",
       "    }\n",
       "</style>\n",
       "<table border=\"1\" class=\"dataframe\">\n",
       "  <thead>\n",
       "    <tr style=\"text-align: right;\">\n",
       "      <th></th>\n",
       "      <th>V1</th>\n",
       "      <th>V2</th>\n",
       "      <th>V3</th>\n",
       "      <th>V4</th>\n",
       "      <th>V5</th>\n",
       "      <th>V6</th>\n",
       "      <th>V7</th>\n",
       "      <th>cluster</th>\n",
       "    </tr>\n",
       "  </thead>\n",
       "  <tbody>\n",
       "    <tr>\n",
       "      <th>9783</th>\n",
       "      <td>1</td>\n",
       "      <td>4</td>\n",
       "      <td>115577.0</td>\n",
       "      <td>115559.0</td>\n",
       "      <td>90402.0</td>\n",
       "      <td>18088.0</td>\n",
       "      <td>121817.0</td>\n",
       "      <td>0</td>\n",
       "    </tr>\n",
       "    <tr>\n",
       "      <th>85013</th>\n",
       "      <td>3</td>\n",
       "      <td>4</td>\n",
       "      <td>160657.0</td>\n",
       "      <td>160632.0</td>\n",
       "      <td>5651.0</td>\n",
       "      <td>148068.0</td>\n",
       "      <td>64938.0</td>\n",
       "      <td>0</td>\n",
       "    </tr>\n",
       "    <tr>\n",
       "      <th>70883</th>\n",
       "      <td>3</td>\n",
       "      <td>1</td>\n",
       "      <td>146527.0</td>\n",
       "      <td>146506.0</td>\n",
       "      <td>27276.0</td>\n",
       "      <td>100859.0</td>\n",
       "      <td>115620.0</td>\n",
       "      <td>0</td>\n",
       "    </tr>\n",
       "    <tr>\n",
       "      <th>64466</th>\n",
       "      <td>3</td>\n",
       "      <td>2</td>\n",
       "      <td>140110.0</td>\n",
       "      <td>140090.0</td>\n",
       "      <td>17717.0</td>\n",
       "      <td>63955.0</td>\n",
       "      <td>11320.0</td>\n",
       "      <td>0</td>\n",
       "    </tr>\n",
       "    <tr>\n",
       "      <th>82448</th>\n",
       "      <td>3</td>\n",
       "      <td>4</td>\n",
       "      <td>158092.0</td>\n",
       "      <td>158068.0</td>\n",
       "      <td>399.0</td>\n",
       "      <td>161841.0</td>\n",
       "      <td>163997.0</td>\n",
       "      <td>0</td>\n",
       "    </tr>\n",
       "    <tr>\n",
       "      <th>...</th>\n",
       "      <td>...</td>\n",
       "      <td>...</td>\n",
       "      <td>...</td>\n",
       "      <td>...</td>\n",
       "      <td>...</td>\n",
       "      <td>...</td>\n",
       "      <td>...</td>\n",
       "      <td>...</td>\n",
       "    </tr>\n",
       "    <tr>\n",
       "      <th>102897</th>\n",
       "      <td>4</td>\n",
       "      <td>1</td>\n",
       "      <td>57373.0</td>\n",
       "      <td>57362.0</td>\n",
       "      <td>64919.0</td>\n",
       "      <td>55294.0</td>\n",
       "      <td>68753.0</td>\n",
       "      <td>1</td>\n",
       "    </tr>\n",
       "    <tr>\n",
       "      <th>40732</th>\n",
       "      <td>2</td>\n",
       "      <td>2</td>\n",
       "      <td>88903.0</td>\n",
       "      <td>88889.0</td>\n",
       "      <td>34335.0</td>\n",
       "      <td>31755.0</td>\n",
       "      <td>72117.0</td>\n",
       "      <td>0</td>\n",
       "    </tr>\n",
       "    <tr>\n",
       "      <th>114945</th>\n",
       "      <td>4</td>\n",
       "      <td>3</td>\n",
       "      <td>69421.0</td>\n",
       "      <td>69407.0</td>\n",
       "      <td>23650.0</td>\n",
       "      <td>37747.0</td>\n",
       "      <td>133916.0</td>\n",
       "      <td>1</td>\n",
       "    </tr>\n",
       "    <tr>\n",
       "      <th>19389</th>\n",
       "      <td>1</td>\n",
       "      <td>2</td>\n",
       "      <td>125183.0</td>\n",
       "      <td>125165.0</td>\n",
       "      <td>123080.0</td>\n",
       "      <td>18023.0</td>\n",
       "      <td>89884.0</td>\n",
       "      <td>0</td>\n",
       "    </tr>\n",
       "    <tr>\n",
       "      <th>155502</th>\n",
       "      <td>5</td>\n",
       "      <td>4</td>\n",
       "      <td>34334.0</td>\n",
       "      <td>34328.0</td>\n",
       "      <td>122908.0</td>\n",
       "      <td>162355.0</td>\n",
       "      <td>139577.0</td>\n",
       "      <td>1</td>\n",
       "    </tr>\n",
       "  </tbody>\n",
       "</table>\n",
       "<p>82430 rows × 8 columns</p>\n",
       "</div>"
      ],
      "text/plain": [
       "       V1 V2        V3        V4        V5        V6        V7  cluster\n",
       "9783    1  4  115577.0  115559.0   90402.0   18088.0  121817.0        0\n",
       "85013   3  4  160657.0  160632.0    5651.0  148068.0   64938.0        0\n",
       "70883   3  1  146527.0  146506.0   27276.0  100859.0  115620.0        0\n",
       "64466   3  2  140110.0  140090.0   17717.0   63955.0   11320.0        0\n",
       "82448   3  4  158092.0  158068.0     399.0  161841.0  163997.0        0\n",
       "...    .. ..       ...       ...       ...       ...       ...      ...\n",
       "102897  4  1   57373.0   57362.0   64919.0   55294.0   68753.0        1\n",
       "40732   2  2   88903.0   88889.0   34335.0   31755.0   72117.0        0\n",
       "114945  4  3   69421.0   69407.0   23650.0   37747.0  133916.0        1\n",
       "19389   1  2  125183.0  125165.0  123080.0   18023.0   89884.0        0\n",
       "155502  5  4   34334.0   34328.0  122908.0  162355.0  139577.0        1\n",
       "\n",
       "[82430 rows x 8 columns]"
      ]
     },
     "execution_count": 53,
     "metadata": {},
     "output_type": "execute_result"
    }
   ],
   "source": [
    "X_test = pd.concat((X_test, y_km_test_df), axis = 1)\n",
    "X_test"
   ]
  },
  {
   "cell_type": "markdown",
   "metadata": {},
   "source": [
    "### Preprocesamiento"
   ]
  },
  {
   "cell_type": "code",
   "execution_count": 54,
   "metadata": {},
   "outputs": [],
   "source": [
    "import copy"
   ]
  },
  {
   "cell_type": "code",
   "execution_count": 55,
   "metadata": {},
   "outputs": [
    {
     "data": {
      "text/html": [
       "<div>\n",
       "<style scoped>\n",
       "    .dataframe tbody tr th:only-of-type {\n",
       "        vertical-align: middle;\n",
       "    }\n",
       "\n",
       "    .dataframe tbody tr th {\n",
       "        vertical-align: top;\n",
       "    }\n",
       "\n",
       "    .dataframe thead th {\n",
       "        text-align: right;\n",
       "    }\n",
       "</style>\n",
       "<table border=\"1\" class=\"dataframe\">\n",
       "  <thead>\n",
       "    <tr style=\"text-align: right;\">\n",
       "      <th></th>\n",
       "      <th>V1</th>\n",
       "      <th>V2</th>\n",
       "      <th>V3</th>\n",
       "      <th>V4</th>\n",
       "      <th>V5</th>\n",
       "      <th>V6</th>\n",
       "      <th>V7</th>\n",
       "      <th>cluster</th>\n",
       "    </tr>\n",
       "  </thead>\n",
       "  <tbody>\n",
       "    <tr>\n",
       "      <th>0</th>\n",
       "      <td>2</td>\n",
       "      <td>1</td>\n",
       "      <td>100771.0</td>\n",
       "      <td>100755.0</td>\n",
       "      <td>85440.0</td>\n",
       "      <td>53590.0</td>\n",
       "      <td>106704.0</td>\n",
       "      <td>1</td>\n",
       "    </tr>\n",
       "    <tr>\n",
       "      <th>1</th>\n",
       "      <td>5</td>\n",
       "      <td>2</td>\n",
       "      <td>38675.0</td>\n",
       "      <td>38667.0</td>\n",
       "      <td>88651.0</td>\n",
       "      <td>12525.0</td>\n",
       "      <td>42315.0</td>\n",
       "      <td>0</td>\n",
       "    </tr>\n",
       "    <tr>\n",
       "      <th>2</th>\n",
       "      <td>5</td>\n",
       "      <td>2</td>\n",
       "      <td>30019.0</td>\n",
       "      <td>30015.0</td>\n",
       "      <td>122387.0</td>\n",
       "      <td>60282.0</td>\n",
       "      <td>3730.0</td>\n",
       "      <td>0</td>\n",
       "    </tr>\n",
       "    <tr>\n",
       "      <th>3</th>\n",
       "      <td>3</td>\n",
       "      <td>3</td>\n",
       "      <td>154610.0</td>\n",
       "      <td>154586.0</td>\n",
       "      <td>139524.0</td>\n",
       "      <td>39150.0</td>\n",
       "      <td>143536.0</td>\n",
       "      <td>1</td>\n",
       "    </tr>\n",
       "    <tr>\n",
       "      <th>4</th>\n",
       "      <td>2</td>\n",
       "      <td>1</td>\n",
       "      <td>94768.0</td>\n",
       "      <td>94753.0</td>\n",
       "      <td>72859.0</td>\n",
       "      <td>59888.0</td>\n",
       "      <td>88129.0</td>\n",
       "      <td>1</td>\n",
       "    </tr>\n",
       "    <tr>\n",
       "      <th>...</th>\n",
       "      <td>...</td>\n",
       "      <td>...</td>\n",
       "      <td>...</td>\n",
       "      <td>...</td>\n",
       "      <td>...</td>\n",
       "      <td>...</td>\n",
       "      <td>...</td>\n",
       "      <td>...</td>\n",
       "    </tr>\n",
       "    <tr>\n",
       "      <th>46532</th>\n",
       "      <td>3</td>\n",
       "      <td>3</td>\n",
       "      <td>156222.0</td>\n",
       "      <td>156198.0</td>\n",
       "      <td>112469.0</td>\n",
       "      <td>49884.0</td>\n",
       "      <td>91514.0</td>\n",
       "      <td>1</td>\n",
       "    </tr>\n",
       "    <tr>\n",
       "      <th>46533</th>\n",
       "      <td>1</td>\n",
       "      <td>3</td>\n",
       "      <td>115353.0</td>\n",
       "      <td>115335.0</td>\n",
       "      <td>127087.0</td>\n",
       "      <td>26900.0</td>\n",
       "      <td>115461.0</td>\n",
       "      <td>1</td>\n",
       "    </tr>\n",
       "    <tr>\n",
       "      <th>46534</th>\n",
       "      <td>3</td>\n",
       "      <td>2</td>\n",
       "      <td>156390.0</td>\n",
       "      <td>156366.0</td>\n",
       "      <td>142260.0</td>\n",
       "      <td>31039.0</td>\n",
       "      <td>86380.0</td>\n",
       "      <td>1</td>\n",
       "    </tr>\n",
       "    <tr>\n",
       "      <th>46535</th>\n",
       "      <td>4</td>\n",
       "      <td>4</td>\n",
       "      <td>49002.0</td>\n",
       "      <td>48994.0</td>\n",
       "      <td>135858.0</td>\n",
       "      <td>12496.0</td>\n",
       "      <td>100000.0</td>\n",
       "      <td>0</td>\n",
       "    </tr>\n",
       "    <tr>\n",
       "      <th>46536</th>\n",
       "      <td>4</td>\n",
       "      <td>3</td>\n",
       "      <td>49226.0</td>\n",
       "      <td>49218.0</td>\n",
       "      <td>108360.0</td>\n",
       "      <td>7740.0</td>\n",
       "      <td>99851.0</td>\n",
       "      <td>0</td>\n",
       "    </tr>\n",
       "  </tbody>\n",
       "</table>\n",
       "<p>46537 rows × 8 columns</p>\n",
       "</div>"
      ],
      "text/plain": [
       "      V1 V2        V3        V4        V5       V6        V7  cluster\n",
       "0      2  1  100771.0  100755.0   85440.0  53590.0  106704.0        1\n",
       "1      5  2   38675.0   38667.0   88651.0  12525.0   42315.0        0\n",
       "2      5  2   30019.0   30015.0  122387.0  60282.0    3730.0        0\n",
       "3      3  3  154610.0  154586.0  139524.0  39150.0  143536.0        1\n",
       "4      2  1   94768.0   94753.0   72859.0  59888.0   88129.0        1\n",
       "...   .. ..       ...       ...       ...      ...       ...      ...\n",
       "46532  3  3  156222.0  156198.0  112469.0  49884.0   91514.0        1\n",
       "46533  1  3  115353.0  115335.0  127087.0  26900.0  115461.0        1\n",
       "46534  3  2  156390.0  156366.0  142260.0  31039.0   86380.0        1\n",
       "46535  4  4   49002.0   48994.0  135858.0  12496.0  100000.0        0\n",
       "46536  4  3   49226.0   49218.0  108360.0   7740.0   99851.0        0\n",
       "\n",
       "[46537 rows x 8 columns]"
      ]
     },
     "execution_count": 55,
     "metadata": {},
     "output_type": "execute_result"
    }
   ],
   "source": [
    "X_train_pp = copy.deepcopy(X_train)\n",
    "#X_train_pp = X_train_pp.drop(columns = ['cluster'])\n",
    "X_train_pp"
   ]
  },
  {
   "cell_type": "code",
   "execution_count": 56,
   "metadata": {},
   "outputs": [
    {
     "data": {
      "text/html": [
       "<div>\n",
       "<style scoped>\n",
       "    .dataframe tbody tr th:only-of-type {\n",
       "        vertical-align: middle;\n",
       "    }\n",
       "\n",
       "    .dataframe tbody tr th {\n",
       "        vertical-align: top;\n",
       "    }\n",
       "\n",
       "    .dataframe thead th {\n",
       "        text-align: right;\n",
       "    }\n",
       "</style>\n",
       "<table border=\"1\" class=\"dataframe\">\n",
       "  <thead>\n",
       "    <tr style=\"text-align: right;\">\n",
       "      <th></th>\n",
       "      <th>V1</th>\n",
       "      <th>V2</th>\n",
       "      <th>V3</th>\n",
       "      <th>V4</th>\n",
       "      <th>V5</th>\n",
       "      <th>V6</th>\n",
       "      <th>V7</th>\n",
       "      <th>cluster</th>\n",
       "    </tr>\n",
       "  </thead>\n",
       "  <tbody>\n",
       "    <tr>\n",
       "      <th>9783</th>\n",
       "      <td>1</td>\n",
       "      <td>4</td>\n",
       "      <td>115577.0</td>\n",
       "      <td>115559.0</td>\n",
       "      <td>90402.0</td>\n",
       "      <td>18088.0</td>\n",
       "      <td>121817.0</td>\n",
       "      <td>0</td>\n",
       "    </tr>\n",
       "    <tr>\n",
       "      <th>85013</th>\n",
       "      <td>3</td>\n",
       "      <td>4</td>\n",
       "      <td>160657.0</td>\n",
       "      <td>160632.0</td>\n",
       "      <td>5651.0</td>\n",
       "      <td>148068.0</td>\n",
       "      <td>64938.0</td>\n",
       "      <td>0</td>\n",
       "    </tr>\n",
       "    <tr>\n",
       "      <th>70883</th>\n",
       "      <td>3</td>\n",
       "      <td>1</td>\n",
       "      <td>146527.0</td>\n",
       "      <td>146506.0</td>\n",
       "      <td>27276.0</td>\n",
       "      <td>100859.0</td>\n",
       "      <td>115620.0</td>\n",
       "      <td>0</td>\n",
       "    </tr>\n",
       "    <tr>\n",
       "      <th>64466</th>\n",
       "      <td>3</td>\n",
       "      <td>2</td>\n",
       "      <td>140110.0</td>\n",
       "      <td>140090.0</td>\n",
       "      <td>17717.0</td>\n",
       "      <td>63955.0</td>\n",
       "      <td>11320.0</td>\n",
       "      <td>0</td>\n",
       "    </tr>\n",
       "    <tr>\n",
       "      <th>82448</th>\n",
       "      <td>3</td>\n",
       "      <td>4</td>\n",
       "      <td>158092.0</td>\n",
       "      <td>158068.0</td>\n",
       "      <td>399.0</td>\n",
       "      <td>161841.0</td>\n",
       "      <td>163997.0</td>\n",
       "      <td>0</td>\n",
       "    </tr>\n",
       "    <tr>\n",
       "      <th>...</th>\n",
       "      <td>...</td>\n",
       "      <td>...</td>\n",
       "      <td>...</td>\n",
       "      <td>...</td>\n",
       "      <td>...</td>\n",
       "      <td>...</td>\n",
       "      <td>...</td>\n",
       "      <td>...</td>\n",
       "    </tr>\n",
       "    <tr>\n",
       "      <th>102897</th>\n",
       "      <td>4</td>\n",
       "      <td>1</td>\n",
       "      <td>57373.0</td>\n",
       "      <td>57362.0</td>\n",
       "      <td>64919.0</td>\n",
       "      <td>55294.0</td>\n",
       "      <td>68753.0</td>\n",
       "      <td>1</td>\n",
       "    </tr>\n",
       "    <tr>\n",
       "      <th>40732</th>\n",
       "      <td>2</td>\n",
       "      <td>2</td>\n",
       "      <td>88903.0</td>\n",
       "      <td>88889.0</td>\n",
       "      <td>34335.0</td>\n",
       "      <td>31755.0</td>\n",
       "      <td>72117.0</td>\n",
       "      <td>0</td>\n",
       "    </tr>\n",
       "    <tr>\n",
       "      <th>114945</th>\n",
       "      <td>4</td>\n",
       "      <td>3</td>\n",
       "      <td>69421.0</td>\n",
       "      <td>69407.0</td>\n",
       "      <td>23650.0</td>\n",
       "      <td>37747.0</td>\n",
       "      <td>133916.0</td>\n",
       "      <td>1</td>\n",
       "    </tr>\n",
       "    <tr>\n",
       "      <th>19389</th>\n",
       "      <td>1</td>\n",
       "      <td>2</td>\n",
       "      <td>125183.0</td>\n",
       "      <td>125165.0</td>\n",
       "      <td>123080.0</td>\n",
       "      <td>18023.0</td>\n",
       "      <td>89884.0</td>\n",
       "      <td>0</td>\n",
       "    </tr>\n",
       "    <tr>\n",
       "      <th>155502</th>\n",
       "      <td>5</td>\n",
       "      <td>4</td>\n",
       "      <td>34334.0</td>\n",
       "      <td>34328.0</td>\n",
       "      <td>122908.0</td>\n",
       "      <td>162355.0</td>\n",
       "      <td>139577.0</td>\n",
       "      <td>1</td>\n",
       "    </tr>\n",
       "  </tbody>\n",
       "</table>\n",
       "<p>82430 rows × 8 columns</p>\n",
       "</div>"
      ],
      "text/plain": [
       "       V1 V2        V3        V4        V5        V6        V7  cluster\n",
       "9783    1  4  115577.0  115559.0   90402.0   18088.0  121817.0        0\n",
       "85013   3  4  160657.0  160632.0    5651.0  148068.0   64938.0        0\n",
       "70883   3  1  146527.0  146506.0   27276.0  100859.0  115620.0        0\n",
       "64466   3  2  140110.0  140090.0   17717.0   63955.0   11320.0        0\n",
       "82448   3  4  158092.0  158068.0     399.0  161841.0  163997.0        0\n",
       "...    .. ..       ...       ...       ...       ...       ...      ...\n",
       "102897  4  1   57373.0   57362.0   64919.0   55294.0   68753.0        1\n",
       "40732   2  2   88903.0   88889.0   34335.0   31755.0   72117.0        0\n",
       "114945  4  3   69421.0   69407.0   23650.0   37747.0  133916.0        1\n",
       "19389   1  2  125183.0  125165.0  123080.0   18023.0   89884.0        0\n",
       "155502  5  4   34334.0   34328.0  122908.0  162355.0  139577.0        1\n",
       "\n",
       "[82430 rows x 8 columns]"
      ]
     },
     "execution_count": 56,
     "metadata": {},
     "output_type": "execute_result"
    }
   ],
   "source": [
    "X_test_pp = copy.deepcopy(X_test)\n",
    "#X_test_pp = X_test_pp.drop(columns = ['cluster'])\n",
    "X_test_pp"
   ]
  },
  {
   "cell_type": "code",
   "execution_count": 57,
   "metadata": {},
   "outputs": [],
   "source": [
    "from sklearn.preprocessing import StandardScaler, MinMaxScaler\n",
    "\n",
    "def scale_features(X_train, X_test, to_scale):\n",
    "    #scaler = StandardScaler()\n",
    "    scaler = MinMaxScaler()\n",
    "    scaler.fit(X_train[to_scale])\n",
    "    train_scaled = scaler.transform(X_train[to_scale])\n",
    "    test_scaled = scaler.transform(X_test[to_scale])\n",
    "    \n",
    "    return train_scaled, test_scaled"
   ]
  },
  {
   "cell_type": "code",
   "execution_count": 58,
   "metadata": {},
   "outputs": [],
   "source": [
    "from sklearn.preprocessing import OneHotEncoder\n",
    "\n",
    "def ohe_features(X, to_encode):\n",
    "    ohe = OneHotEncoder(sparse = False)\n",
    "    encoded = ohe.fit_transform(X[to_encode])\n",
    "    \n",
    "    return encoded"
   ]
  },
  {
   "cell_type": "code",
   "execution_count": 59,
   "metadata": {},
   "outputs": [],
   "source": [
    "def ohe(df, columns):\n",
    "    for col in columns:\n",
    "        #print(col)\n",
    "        col_encoded = pd.get_dummies(pd.Series(df[col]))\n",
    "        #print(col_encoded.head(3))\n",
    "        df[['{}_'.format(col) + str(c) for c in list(col_encoded.columns.values)]] = col_encoded\n",
    "        df = df.drop(columns = col)\n",
    "        \n",
    "    return df"
   ]
  },
  {
   "cell_type": "markdown",
   "metadata": {},
   "source": [
    "#### Aplicamos OneHotEncoding"
   ]
  },
  {
   "cell_type": "code",
   "execution_count": 60,
   "metadata": {},
   "outputs": [],
   "source": [
    "cols_to_encode = ['V1', 'V2', 'cluster']"
   ]
  },
  {
   "cell_type": "code",
   "execution_count": 61,
   "metadata": {},
   "outputs": [],
   "source": [
    "#X_train_ohe = ohe_features(copy.deepcopy(X_train_pp), cols_to_encode)"
   ]
  },
  {
   "cell_type": "code",
   "execution_count": 62,
   "metadata": {},
   "outputs": [],
   "source": [
    "X_train_ohe = ohe(copy.deepcopy(X_train_pp), cols_to_encode)"
   ]
  },
  {
   "cell_type": "code",
   "execution_count": 63,
   "metadata": {},
   "outputs": [
    {
     "data": {
      "text/html": [
       "<div>\n",
       "<style scoped>\n",
       "    .dataframe tbody tr th:only-of-type {\n",
       "        vertical-align: middle;\n",
       "    }\n",
       "\n",
       "    .dataframe tbody tr th {\n",
       "        vertical-align: top;\n",
       "    }\n",
       "\n",
       "    .dataframe thead th {\n",
       "        text-align: right;\n",
       "    }\n",
       "</style>\n",
       "<table border=\"1\" class=\"dataframe\">\n",
       "  <thead>\n",
       "    <tr style=\"text-align: right;\">\n",
       "      <th></th>\n",
       "      <th>V3</th>\n",
       "      <th>V4</th>\n",
       "      <th>V5</th>\n",
       "      <th>V6</th>\n",
       "      <th>V7</th>\n",
       "      <th>V1_1</th>\n",
       "      <th>V1_2</th>\n",
       "      <th>V1_3</th>\n",
       "      <th>V1_4</th>\n",
       "      <th>V1_5</th>\n",
       "      <th>V2_1</th>\n",
       "      <th>V2_2</th>\n",
       "      <th>V2_3</th>\n",
       "      <th>V2_4</th>\n",
       "      <th>cluster_0</th>\n",
       "      <th>cluster_1</th>\n",
       "    </tr>\n",
       "  </thead>\n",
       "  <tbody>\n",
       "    <tr>\n",
       "      <th>0</th>\n",
       "      <td>100771.0</td>\n",
       "      <td>100755.0</td>\n",
       "      <td>85440.0</td>\n",
       "      <td>53590.0</td>\n",
       "      <td>106704.0</td>\n",
       "      <td>0</td>\n",
       "      <td>1</td>\n",
       "      <td>0</td>\n",
       "      <td>0</td>\n",
       "      <td>0</td>\n",
       "      <td>1</td>\n",
       "      <td>0</td>\n",
       "      <td>0</td>\n",
       "      <td>0</td>\n",
       "      <td>0</td>\n",
       "      <td>1</td>\n",
       "    </tr>\n",
       "    <tr>\n",
       "      <th>1</th>\n",
       "      <td>38675.0</td>\n",
       "      <td>38667.0</td>\n",
       "      <td>88651.0</td>\n",
       "      <td>12525.0</td>\n",
       "      <td>42315.0</td>\n",
       "      <td>0</td>\n",
       "      <td>0</td>\n",
       "      <td>0</td>\n",
       "      <td>0</td>\n",
       "      <td>1</td>\n",
       "      <td>0</td>\n",
       "      <td>1</td>\n",
       "      <td>0</td>\n",
       "      <td>0</td>\n",
       "      <td>1</td>\n",
       "      <td>0</td>\n",
       "    </tr>\n",
       "    <tr>\n",
       "      <th>2</th>\n",
       "      <td>30019.0</td>\n",
       "      <td>30015.0</td>\n",
       "      <td>122387.0</td>\n",
       "      <td>60282.0</td>\n",
       "      <td>3730.0</td>\n",
       "      <td>0</td>\n",
       "      <td>0</td>\n",
       "      <td>0</td>\n",
       "      <td>0</td>\n",
       "      <td>1</td>\n",
       "      <td>0</td>\n",
       "      <td>1</td>\n",
       "      <td>0</td>\n",
       "      <td>0</td>\n",
       "      <td>1</td>\n",
       "      <td>0</td>\n",
       "    </tr>\n",
       "    <tr>\n",
       "      <th>3</th>\n",
       "      <td>154610.0</td>\n",
       "      <td>154586.0</td>\n",
       "      <td>139524.0</td>\n",
       "      <td>39150.0</td>\n",
       "      <td>143536.0</td>\n",
       "      <td>0</td>\n",
       "      <td>0</td>\n",
       "      <td>1</td>\n",
       "      <td>0</td>\n",
       "      <td>0</td>\n",
       "      <td>0</td>\n",
       "      <td>0</td>\n",
       "      <td>1</td>\n",
       "      <td>0</td>\n",
       "      <td>0</td>\n",
       "      <td>1</td>\n",
       "    </tr>\n",
       "    <tr>\n",
       "      <th>4</th>\n",
       "      <td>94768.0</td>\n",
       "      <td>94753.0</td>\n",
       "      <td>72859.0</td>\n",
       "      <td>59888.0</td>\n",
       "      <td>88129.0</td>\n",
       "      <td>0</td>\n",
       "      <td>1</td>\n",
       "      <td>0</td>\n",
       "      <td>0</td>\n",
       "      <td>0</td>\n",
       "      <td>1</td>\n",
       "      <td>0</td>\n",
       "      <td>0</td>\n",
       "      <td>0</td>\n",
       "      <td>0</td>\n",
       "      <td>1</td>\n",
       "    </tr>\n",
       "    <tr>\n",
       "      <th>...</th>\n",
       "      <td>...</td>\n",
       "      <td>...</td>\n",
       "      <td>...</td>\n",
       "      <td>...</td>\n",
       "      <td>...</td>\n",
       "      <td>...</td>\n",
       "      <td>...</td>\n",
       "      <td>...</td>\n",
       "      <td>...</td>\n",
       "      <td>...</td>\n",
       "      <td>...</td>\n",
       "      <td>...</td>\n",
       "      <td>...</td>\n",
       "      <td>...</td>\n",
       "      <td>...</td>\n",
       "      <td>...</td>\n",
       "    </tr>\n",
       "    <tr>\n",
       "      <th>46532</th>\n",
       "      <td>156222.0</td>\n",
       "      <td>156198.0</td>\n",
       "      <td>112469.0</td>\n",
       "      <td>49884.0</td>\n",
       "      <td>91514.0</td>\n",
       "      <td>0</td>\n",
       "      <td>0</td>\n",
       "      <td>1</td>\n",
       "      <td>0</td>\n",
       "      <td>0</td>\n",
       "      <td>0</td>\n",
       "      <td>0</td>\n",
       "      <td>1</td>\n",
       "      <td>0</td>\n",
       "      <td>0</td>\n",
       "      <td>1</td>\n",
       "    </tr>\n",
       "    <tr>\n",
       "      <th>46533</th>\n",
       "      <td>115353.0</td>\n",
       "      <td>115335.0</td>\n",
       "      <td>127087.0</td>\n",
       "      <td>26900.0</td>\n",
       "      <td>115461.0</td>\n",
       "      <td>1</td>\n",
       "      <td>0</td>\n",
       "      <td>0</td>\n",
       "      <td>0</td>\n",
       "      <td>0</td>\n",
       "      <td>0</td>\n",
       "      <td>0</td>\n",
       "      <td>1</td>\n",
       "      <td>0</td>\n",
       "      <td>0</td>\n",
       "      <td>1</td>\n",
       "    </tr>\n",
       "    <tr>\n",
       "      <th>46534</th>\n",
       "      <td>156390.0</td>\n",
       "      <td>156366.0</td>\n",
       "      <td>142260.0</td>\n",
       "      <td>31039.0</td>\n",
       "      <td>86380.0</td>\n",
       "      <td>0</td>\n",
       "      <td>0</td>\n",
       "      <td>1</td>\n",
       "      <td>0</td>\n",
       "      <td>0</td>\n",
       "      <td>0</td>\n",
       "      <td>1</td>\n",
       "      <td>0</td>\n",
       "      <td>0</td>\n",
       "      <td>0</td>\n",
       "      <td>1</td>\n",
       "    </tr>\n",
       "    <tr>\n",
       "      <th>46535</th>\n",
       "      <td>49002.0</td>\n",
       "      <td>48994.0</td>\n",
       "      <td>135858.0</td>\n",
       "      <td>12496.0</td>\n",
       "      <td>100000.0</td>\n",
       "      <td>0</td>\n",
       "      <td>0</td>\n",
       "      <td>0</td>\n",
       "      <td>1</td>\n",
       "      <td>0</td>\n",
       "      <td>0</td>\n",
       "      <td>0</td>\n",
       "      <td>0</td>\n",
       "      <td>1</td>\n",
       "      <td>1</td>\n",
       "      <td>0</td>\n",
       "    </tr>\n",
       "    <tr>\n",
       "      <th>46536</th>\n",
       "      <td>49226.0</td>\n",
       "      <td>49218.0</td>\n",
       "      <td>108360.0</td>\n",
       "      <td>7740.0</td>\n",
       "      <td>99851.0</td>\n",
       "      <td>0</td>\n",
       "      <td>0</td>\n",
       "      <td>0</td>\n",
       "      <td>1</td>\n",
       "      <td>0</td>\n",
       "      <td>0</td>\n",
       "      <td>0</td>\n",
       "      <td>1</td>\n",
       "      <td>0</td>\n",
       "      <td>1</td>\n",
       "      <td>0</td>\n",
       "    </tr>\n",
       "  </tbody>\n",
       "</table>\n",
       "<p>46537 rows × 16 columns</p>\n",
       "</div>"
      ],
      "text/plain": [
       "             V3        V4        V5       V6        V7  V1_1  V1_2  V1_3  \\\n",
       "0      100771.0  100755.0   85440.0  53590.0  106704.0     0     1     0   \n",
       "1       38675.0   38667.0   88651.0  12525.0   42315.0     0     0     0   \n",
       "2       30019.0   30015.0  122387.0  60282.0    3730.0     0     0     0   \n",
       "3      154610.0  154586.0  139524.0  39150.0  143536.0     0     0     1   \n",
       "4       94768.0   94753.0   72859.0  59888.0   88129.0     0     1     0   \n",
       "...         ...       ...       ...      ...       ...   ...   ...   ...   \n",
       "46532  156222.0  156198.0  112469.0  49884.0   91514.0     0     0     1   \n",
       "46533  115353.0  115335.0  127087.0  26900.0  115461.0     1     0     0   \n",
       "46534  156390.0  156366.0  142260.0  31039.0   86380.0     0     0     1   \n",
       "46535   49002.0   48994.0  135858.0  12496.0  100000.0     0     0     0   \n",
       "46536   49226.0   49218.0  108360.0   7740.0   99851.0     0     0     0   \n",
       "\n",
       "       V1_4  V1_5  V2_1  V2_2  V2_3  V2_4  cluster_0  cluster_1  \n",
       "0         0     0     1     0     0     0          0          1  \n",
       "1         0     1     0     1     0     0          1          0  \n",
       "2         0     1     0     1     0     0          1          0  \n",
       "3         0     0     0     0     1     0          0          1  \n",
       "4         0     0     1     0     0     0          0          1  \n",
       "...     ...   ...   ...   ...   ...   ...        ...        ...  \n",
       "46532     0     0     0     0     1     0          0          1  \n",
       "46533     0     0     0     0     1     0          0          1  \n",
       "46534     0     0     0     1     0     0          0          1  \n",
       "46535     1     0     0     0     0     1          1          0  \n",
       "46536     1     0     0     0     1     0          1          0  \n",
       "\n",
       "[46537 rows x 16 columns]"
      ]
     },
     "execution_count": 63,
     "metadata": {},
     "output_type": "execute_result"
    }
   ],
   "source": [
    "X_train_ohe"
   ]
  },
  {
   "cell_type": "code",
   "execution_count": 64,
   "metadata": {},
   "outputs": [],
   "source": [
    "#X_test_ohe = ohe_features(copy.deepcopy(X_test_pp), cols_to_encode)"
   ]
  },
  {
   "cell_type": "code",
   "execution_count": 65,
   "metadata": {},
   "outputs": [],
   "source": [
    "X_test_ohe = ohe(copy.deepcopy(X_test_pp), cols_to_encode)"
   ]
  },
  {
   "cell_type": "code",
   "execution_count": 66,
   "metadata": {
    "scrolled": true
   },
   "outputs": [
    {
     "data": {
      "text/html": [
       "<div>\n",
       "<style scoped>\n",
       "    .dataframe tbody tr th:only-of-type {\n",
       "        vertical-align: middle;\n",
       "    }\n",
       "\n",
       "    .dataframe tbody tr th {\n",
       "        vertical-align: top;\n",
       "    }\n",
       "\n",
       "    .dataframe thead th {\n",
       "        text-align: right;\n",
       "    }\n",
       "</style>\n",
       "<table border=\"1\" class=\"dataframe\">\n",
       "  <thead>\n",
       "    <tr style=\"text-align: right;\">\n",
       "      <th></th>\n",
       "      <th>V3</th>\n",
       "      <th>V4</th>\n",
       "      <th>V5</th>\n",
       "      <th>V6</th>\n",
       "      <th>V7</th>\n",
       "      <th>V1_1</th>\n",
       "      <th>V1_2</th>\n",
       "      <th>V1_3</th>\n",
       "      <th>V1_4</th>\n",
       "      <th>V1_5</th>\n",
       "      <th>V2_1</th>\n",
       "      <th>V2_2</th>\n",
       "      <th>V2_3</th>\n",
       "      <th>V2_4</th>\n",
       "      <th>cluster_0</th>\n",
       "      <th>cluster_1</th>\n",
       "    </tr>\n",
       "  </thead>\n",
       "  <tbody>\n",
       "    <tr>\n",
       "      <th>9783</th>\n",
       "      <td>115577.0</td>\n",
       "      <td>115559.0</td>\n",
       "      <td>90402.0</td>\n",
       "      <td>18088.0</td>\n",
       "      <td>121817.0</td>\n",
       "      <td>1</td>\n",
       "      <td>0</td>\n",
       "      <td>0</td>\n",
       "      <td>0</td>\n",
       "      <td>0</td>\n",
       "      <td>0</td>\n",
       "      <td>0</td>\n",
       "      <td>0</td>\n",
       "      <td>1</td>\n",
       "      <td>1</td>\n",
       "      <td>0</td>\n",
       "    </tr>\n",
       "    <tr>\n",
       "      <th>85013</th>\n",
       "      <td>160657.0</td>\n",
       "      <td>160632.0</td>\n",
       "      <td>5651.0</td>\n",
       "      <td>148068.0</td>\n",
       "      <td>64938.0</td>\n",
       "      <td>0</td>\n",
       "      <td>0</td>\n",
       "      <td>1</td>\n",
       "      <td>0</td>\n",
       "      <td>0</td>\n",
       "      <td>0</td>\n",
       "      <td>0</td>\n",
       "      <td>0</td>\n",
       "      <td>1</td>\n",
       "      <td>1</td>\n",
       "      <td>0</td>\n",
       "    </tr>\n",
       "    <tr>\n",
       "      <th>70883</th>\n",
       "      <td>146527.0</td>\n",
       "      <td>146506.0</td>\n",
       "      <td>27276.0</td>\n",
       "      <td>100859.0</td>\n",
       "      <td>115620.0</td>\n",
       "      <td>0</td>\n",
       "      <td>0</td>\n",
       "      <td>1</td>\n",
       "      <td>0</td>\n",
       "      <td>0</td>\n",
       "      <td>1</td>\n",
       "      <td>0</td>\n",
       "      <td>0</td>\n",
       "      <td>0</td>\n",
       "      <td>1</td>\n",
       "      <td>0</td>\n",
       "    </tr>\n",
       "    <tr>\n",
       "      <th>64466</th>\n",
       "      <td>140110.0</td>\n",
       "      <td>140090.0</td>\n",
       "      <td>17717.0</td>\n",
       "      <td>63955.0</td>\n",
       "      <td>11320.0</td>\n",
       "      <td>0</td>\n",
       "      <td>0</td>\n",
       "      <td>1</td>\n",
       "      <td>0</td>\n",
       "      <td>0</td>\n",
       "      <td>0</td>\n",
       "      <td>1</td>\n",
       "      <td>0</td>\n",
       "      <td>0</td>\n",
       "      <td>1</td>\n",
       "      <td>0</td>\n",
       "    </tr>\n",
       "    <tr>\n",
       "      <th>82448</th>\n",
       "      <td>158092.0</td>\n",
       "      <td>158068.0</td>\n",
       "      <td>399.0</td>\n",
       "      <td>161841.0</td>\n",
       "      <td>163997.0</td>\n",
       "      <td>0</td>\n",
       "      <td>0</td>\n",
       "      <td>1</td>\n",
       "      <td>0</td>\n",
       "      <td>0</td>\n",
       "      <td>0</td>\n",
       "      <td>0</td>\n",
       "      <td>0</td>\n",
       "      <td>1</td>\n",
       "      <td>1</td>\n",
       "      <td>0</td>\n",
       "    </tr>\n",
       "    <tr>\n",
       "      <th>...</th>\n",
       "      <td>...</td>\n",
       "      <td>...</td>\n",
       "      <td>...</td>\n",
       "      <td>...</td>\n",
       "      <td>...</td>\n",
       "      <td>...</td>\n",
       "      <td>...</td>\n",
       "      <td>...</td>\n",
       "      <td>...</td>\n",
       "      <td>...</td>\n",
       "      <td>...</td>\n",
       "      <td>...</td>\n",
       "      <td>...</td>\n",
       "      <td>...</td>\n",
       "      <td>...</td>\n",
       "      <td>...</td>\n",
       "    </tr>\n",
       "    <tr>\n",
       "      <th>102897</th>\n",
       "      <td>57373.0</td>\n",
       "      <td>57362.0</td>\n",
       "      <td>64919.0</td>\n",
       "      <td>55294.0</td>\n",
       "      <td>68753.0</td>\n",
       "      <td>0</td>\n",
       "      <td>0</td>\n",
       "      <td>0</td>\n",
       "      <td>1</td>\n",
       "      <td>0</td>\n",
       "      <td>1</td>\n",
       "      <td>0</td>\n",
       "      <td>0</td>\n",
       "      <td>0</td>\n",
       "      <td>0</td>\n",
       "      <td>1</td>\n",
       "    </tr>\n",
       "    <tr>\n",
       "      <th>40732</th>\n",
       "      <td>88903.0</td>\n",
       "      <td>88889.0</td>\n",
       "      <td>34335.0</td>\n",
       "      <td>31755.0</td>\n",
       "      <td>72117.0</td>\n",
       "      <td>0</td>\n",
       "      <td>1</td>\n",
       "      <td>0</td>\n",
       "      <td>0</td>\n",
       "      <td>0</td>\n",
       "      <td>0</td>\n",
       "      <td>1</td>\n",
       "      <td>0</td>\n",
       "      <td>0</td>\n",
       "      <td>1</td>\n",
       "      <td>0</td>\n",
       "    </tr>\n",
       "    <tr>\n",
       "      <th>114945</th>\n",
       "      <td>69421.0</td>\n",
       "      <td>69407.0</td>\n",
       "      <td>23650.0</td>\n",
       "      <td>37747.0</td>\n",
       "      <td>133916.0</td>\n",
       "      <td>0</td>\n",
       "      <td>0</td>\n",
       "      <td>0</td>\n",
       "      <td>1</td>\n",
       "      <td>0</td>\n",
       "      <td>0</td>\n",
       "      <td>0</td>\n",
       "      <td>1</td>\n",
       "      <td>0</td>\n",
       "      <td>0</td>\n",
       "      <td>1</td>\n",
       "    </tr>\n",
       "    <tr>\n",
       "      <th>19389</th>\n",
       "      <td>125183.0</td>\n",
       "      <td>125165.0</td>\n",
       "      <td>123080.0</td>\n",
       "      <td>18023.0</td>\n",
       "      <td>89884.0</td>\n",
       "      <td>1</td>\n",
       "      <td>0</td>\n",
       "      <td>0</td>\n",
       "      <td>0</td>\n",
       "      <td>0</td>\n",
       "      <td>0</td>\n",
       "      <td>1</td>\n",
       "      <td>0</td>\n",
       "      <td>0</td>\n",
       "      <td>1</td>\n",
       "      <td>0</td>\n",
       "    </tr>\n",
       "    <tr>\n",
       "      <th>155502</th>\n",
       "      <td>34334.0</td>\n",
       "      <td>34328.0</td>\n",
       "      <td>122908.0</td>\n",
       "      <td>162355.0</td>\n",
       "      <td>139577.0</td>\n",
       "      <td>0</td>\n",
       "      <td>0</td>\n",
       "      <td>0</td>\n",
       "      <td>0</td>\n",
       "      <td>1</td>\n",
       "      <td>0</td>\n",
       "      <td>0</td>\n",
       "      <td>0</td>\n",
       "      <td>1</td>\n",
       "      <td>0</td>\n",
       "      <td>1</td>\n",
       "    </tr>\n",
       "  </tbody>\n",
       "</table>\n",
       "<p>82430 rows × 16 columns</p>\n",
       "</div>"
      ],
      "text/plain": [
       "              V3        V4        V5        V6        V7  V1_1  V1_2  V1_3  \\\n",
       "9783    115577.0  115559.0   90402.0   18088.0  121817.0     1     0     0   \n",
       "85013   160657.0  160632.0    5651.0  148068.0   64938.0     0     0     1   \n",
       "70883   146527.0  146506.0   27276.0  100859.0  115620.0     0     0     1   \n",
       "64466   140110.0  140090.0   17717.0   63955.0   11320.0     0     0     1   \n",
       "82448   158092.0  158068.0     399.0  161841.0  163997.0     0     0     1   \n",
       "...          ...       ...       ...       ...       ...   ...   ...   ...   \n",
       "102897   57373.0   57362.0   64919.0   55294.0   68753.0     0     0     0   \n",
       "40732    88903.0   88889.0   34335.0   31755.0   72117.0     0     1     0   \n",
       "114945   69421.0   69407.0   23650.0   37747.0  133916.0     0     0     0   \n",
       "19389   125183.0  125165.0  123080.0   18023.0   89884.0     1     0     0   \n",
       "155502   34334.0   34328.0  122908.0  162355.0  139577.0     0     0     0   \n",
       "\n",
       "        V1_4  V1_5  V2_1  V2_2  V2_3  V2_4  cluster_0  cluster_1  \n",
       "9783       0     0     0     0     0     1          1          0  \n",
       "85013      0     0     0     0     0     1          1          0  \n",
       "70883      0     0     1     0     0     0          1          0  \n",
       "64466      0     0     0     1     0     0          1          0  \n",
       "82448      0     0     0     0     0     1          1          0  \n",
       "...      ...   ...   ...   ...   ...   ...        ...        ...  \n",
       "102897     1     0     1     0     0     0          0          1  \n",
       "40732      0     0     0     1     0     0          1          0  \n",
       "114945     1     0     0     0     1     0          0          1  \n",
       "19389      0     0     0     1     0     0          1          0  \n",
       "155502     0     1     0     0     0     1          0          1  \n",
       "\n",
       "[82430 rows x 16 columns]"
      ]
     },
     "execution_count": 66,
     "metadata": {},
     "output_type": "execute_result"
    }
   ],
   "source": [
    "X_test_ohe"
   ]
  },
  {
   "cell_type": "code",
   "execution_count": 67,
   "metadata": {},
   "outputs": [],
   "source": [
    "begin = 0\n",
    "end = k_opt"
   ]
  },
  {
   "cell_type": "code",
   "execution_count": 68,
   "metadata": {},
   "outputs": [
    {
     "data": {
      "text/plain": [
       "['V3',\n",
       " 'V4',\n",
       " 'V5',\n",
       " 'V6',\n",
       " 'V7',\n",
       " 'V1_1',\n",
       " 'V1_2',\n",
       " 'V1_3',\n",
       " 'V1_4',\n",
       " 'V1_5',\n",
       " 'V2_1',\n",
       " 'V2_2',\n",
       " 'V2_3',\n",
       " 'V2_4']"
      ]
     },
     "execution_count": 68,
     "metadata": {},
     "output_type": "execute_result"
    }
   ],
   "source": [
    "list(X_test_ohe.columns.values)[begin:-end]"
   ]
  },
  {
   "cell_type": "code",
   "execution_count": 69,
   "metadata": {},
   "outputs": [],
   "source": [
    "cols_to_scale = list(X_test_ohe.columns.values)[begin:]"
   ]
  },
  {
   "cell_type": "code",
   "execution_count": 70,
   "metadata": {},
   "outputs": [],
   "source": [
    "X_train_model, X_test_model = scale_features(copy.deepcopy(X_train_ohe), copy.deepcopy(X_test_ohe), cols_to_scale)"
   ]
  },
  {
   "cell_type": "code",
   "execution_count": 71,
   "metadata": {},
   "outputs": [],
   "source": [
    "#X_train_model = np.concatenate([X_train_scaled, X_train_ohe], axis=1)\n",
    "#X_train_model"
   ]
  },
  {
   "cell_type": "code",
   "execution_count": 72,
   "metadata": {},
   "outputs": [
    {
     "data": {
      "text/plain": [
       "0        1\n",
       "1        1\n",
       "2        1\n",
       "3        1\n",
       "4        1\n",
       "        ..\n",
       "46532    9\n",
       "46533    9\n",
       "46534    9\n",
       "46535    9\n",
       "46536    9\n",
       "Name: Class, Length: 46537, dtype: category\n",
       "Categories (11, object): ['1' < '2' < '3' < '4' ... '8' < '9' < '10' < '11']"
      ]
     },
     "execution_count": 72,
     "metadata": {},
     "output_type": "execute_result"
    }
   ],
   "source": [
    "y_train_model = copy.deepcopy(y_train_und)\n",
    "#y_train_model = copy.deepcopy(y_km_train)\n",
    "y_train_model"
   ]
  },
  {
   "cell_type": "code",
   "execution_count": 73,
   "metadata": {},
   "outputs": [],
   "source": [
    "#X_test_model = np.concatenate([X_test_scaled, X_test_ohe], axis=1)\n",
    "#X_test_model"
   ]
  },
  {
   "cell_type": "code",
   "execution_count": 74,
   "metadata": {},
   "outputs": [
    {
     "data": {
      "text/plain": [
       "9783       9\n",
       "85013      4\n",
       "70883      7\n",
       "64466      7\n",
       "82448      4\n",
       "          ..\n",
       "102897    10\n",
       "40732      7\n",
       "114945    10\n",
       "19389      4\n",
       "155502     4\n",
       "Name: Class, Length: 82430, dtype: category\n",
       "Categories (11, object): ['1' < '2' < '3' < '4' ... '8' < '9' < '10' < '11']"
      ]
     },
     "execution_count": 74,
     "metadata": {},
     "output_type": "execute_result"
    }
   ],
   "source": [
    "y_test_model = copy.deepcopy(y_test)\n",
    "#y_test_model = copy.deepcopy(y_km_test)\n",
    "y_test_model"
   ]
  },
  {
   "cell_type": "markdown",
   "metadata": {},
   "source": [
    "### Modelado"
   ]
  },
  {
   "cell_type": "code",
   "execution_count": 75,
   "metadata": {},
   "outputs": [],
   "source": [
    "from sklearn import linear_model\n",
    "from sklearn import model_selection\n",
    "from sklearn.metrics import classification_report\n",
    "from sklearn.metrics import confusion_matrix\n",
    "from sklearn.metrics import accuracy_score"
   ]
  },
  {
   "cell_type": "markdown",
   "metadata": {},
   "source": [
    "#### Balanceo de clases"
   ]
  },
  {
   "cell_type": "code",
   "execution_count": 76,
   "metadata": {},
   "outputs": [],
   "source": [
    "#!pip install imblearn"
   ]
  },
  {
   "cell_type": "code",
   "execution_count": 77,
   "metadata": {},
   "outputs": [],
   "source": [
    "#from imblearn.over_sampling import SMOTE # Library to Balance Dataset\n",
    "#smote = SMOTE()\n",
    "#X_train_model, y_train_model = smote.fit_resample(X_train_model, y_train) # Balancing our Data\n",
    "#X_train_model, y_train_model # Checking our new shape after Over_Sampling"
   ]
  },
  {
   "cell_type": "code",
   "execution_count": 78,
   "metadata": {},
   "outputs": [],
   "source": [
    "accuracy = {}\n",
    "\n",
    "def train_model(model, model_name, x_tr, y_tr, x_ts, y_ts):\n",
    "    print(model_name)\n",
    "    \n",
    "    # Fitting model\n",
    "    kfold = model_selection.KFold(n_splits=5)\n",
    "    cv_results = model_selection.cross_val_score(model, x_tr, y_tr, cv=kfold, scoring='accuracy')\n",
    "    print(cv_results)\n",
    "    msg = \"%s: %f (%f)\" % (model_name, cv_results.mean(), cv_results.std())\n",
    "    print(msg)\n",
    "    \n",
    "    retrained_model = model.fit(x_tr, y_tr)\n",
    "    \n",
    "    # Predicting\n",
    "    pred = retrained_model.predict(x_ts)\n",
    "    y_test_aux = np.array(y_ts)\n",
    "    values = np.array([[pred[i], y_test_aux[i]] for i in range(len(y_test_aux))])\n",
    "    #print(pd.DataFrame(values, columns = ['pred', 'real']))\n",
    "    \n",
    "    #Model accuracy\n",
    "    acc = accuracy_score(y_ts, pred) * 100\n",
    "    accuracy[model_name] = acc\n",
    "    print('accuracy_score', acc, '\\n')\n",
    "    \n",
    "    # Classification Report\n",
    "    print('Classification Report')\n",
    "    print(classification_report(y_ts, pred))"
   ]
  },
  {
   "cell_type": "markdown",
   "metadata": {},
   "source": [
    "### Logistic Regression"
   ]
  },
  {
   "cell_type": "code",
   "execution_count": 79,
   "metadata": {
    "scrolled": false
   },
   "outputs": [
    {
     "name": "stdout",
     "output_type": "stream",
     "text": [
      "Logistic Regression\n"
     ]
    },
    {
     "name": "stderr",
     "output_type": "stream",
     "text": [
      "[Parallel(n_jobs=1)]: Using backend SequentialBackend with 1 concurrent workers.\n",
      "[Parallel(n_jobs=1)]: Done   1 out of   1 | elapsed:    7.0s finished\n",
      "[Parallel(n_jobs=1)]: Using backend SequentialBackend with 1 concurrent workers.\n",
      "[Parallel(n_jobs=1)]: Done   1 out of   1 | elapsed:   10.8s finished\n",
      "[Parallel(n_jobs=1)]: Using backend SequentialBackend with 1 concurrent workers.\n",
      "[Parallel(n_jobs=1)]: Done   1 out of   1 | elapsed:   11.0s finished\n",
      "[Parallel(n_jobs=1)]: Using backend SequentialBackend with 1 concurrent workers.\n",
      "[Parallel(n_jobs=1)]: Done   1 out of   1 | elapsed:    9.2s finished\n",
      "[Parallel(n_jobs=1)]: Using backend SequentialBackend with 1 concurrent workers.\n",
      "[Parallel(n_jobs=1)]: Done   1 out of   1 | elapsed:    8.0s finished\n",
      "[Parallel(n_jobs=1)]: Using backend SequentialBackend with 1 concurrent workers.\n"
     ]
    },
    {
     "name": "stdout",
     "output_type": "stream",
     "text": [
      "[0.01063601 0.07928664 0.         0.11314065 0.02482003]\n",
      "Logistic Regression: 0.045577 (0.043429)\n"
     ]
    },
    {
     "name": "stderr",
     "output_type": "stream",
     "text": [
      "[Parallel(n_jobs=1)]: Done   1 out of   1 | elapsed:   13.0s finished\n"
     ]
    },
    {
     "name": "stdout",
     "output_type": "stream",
     "text": [
      "accuracy_score 34.00339682154556 \n",
      "\n",
      "Classification Report\n"
     ]
    },
    {
     "name": "stderr",
     "output_type": "stream",
     "text": [
      "C:\\Users\\ADMIN\\anaconda3\\lib\\site-packages\\sklearn\\metrics\\_classification.py:1318: UndefinedMetricWarning: Precision and F-score are ill-defined and being set to 0.0 in labels with no predicted samples. Use `zero_division` parameter to control this behavior.\n",
      "  _warn_prf(average, modifier, msg_start, len(result))\n",
      "C:\\Users\\ADMIN\\anaconda3\\lib\\site-packages\\sklearn\\metrics\\_classification.py:1318: UndefinedMetricWarning: Precision and F-score are ill-defined and being set to 0.0 in labels with no predicted samples. Use `zero_division` parameter to control this behavior.\n",
      "  _warn_prf(average, modifier, msg_start, len(result))\n"
     ]
    },
    {
     "name": "stdout",
     "output_type": "stream",
     "text": [
      "              precision    recall  f1-score   support\n",
      "\n",
      "           1       0.00      0.00      0.00      1476\n",
      "          10       0.00      0.00      0.00      9086\n",
      "          11       0.00      0.00      0.00       677\n",
      "           2       0.00      0.00      0.00      1488\n",
      "           3       0.30      0.27      0.28     16351\n",
      "           4       0.38      0.58      0.46     27312\n",
      "           5       0.14      0.02      0.03      3123\n",
      "           6       0.19      0.20      0.19      2545\n",
      "           7       0.34      0.39      0.37     13623\n",
      "           8       0.00      0.00      0.00       854\n",
      "           9       0.25      0.33      0.29      5895\n",
      "\n",
      "    accuracy                           0.34     82430\n",
      "   macro avg       0.15      0.16      0.15     82430\n",
      "weighted avg       0.27      0.34      0.30     82430\n",
      "\n"
     ]
    },
    {
     "name": "stderr",
     "output_type": "stream",
     "text": [
      "C:\\Users\\ADMIN\\anaconda3\\lib\\site-packages\\sklearn\\metrics\\_classification.py:1318: UndefinedMetricWarning: Precision and F-score are ill-defined and being set to 0.0 in labels with no predicted samples. Use `zero_division` parameter to control this behavior.\n",
      "  _warn_prf(average, modifier, msg_start, len(result))\n"
     ]
    }
   ],
   "source": [
    "model = linear_model.LogisticRegression(penalty = 'l2', max_iter = 1000, verbose = True)\n",
    "model_name='Logistic Regression'\n",
    "train_model(model, model_name, X_train_model, y_train_model, X_test_model, y_test_model)"
   ]
  },
  {
   "cell_type": "code",
   "execution_count": 80,
   "metadata": {},
   "outputs": [
    {
     "name": "stderr",
     "output_type": "stream",
     "text": [
      "[Parallel(n_jobs=1)]: Using backend SequentialBackend with 1 concurrent workers.\n",
      "[Parallel(n_jobs=1)]: Done   1 out of   1 | elapsed:   13.8s finished\n"
     ]
    }
   ],
   "source": [
    "model = linear_model.LogisticRegression(penalty = 'l2', max_iter = 1000, verbose = True)\n",
    "model_name='Logistic Regression'\n",
    "retrained_model = model.fit(X_train_model, y_train_model)"
   ]
  },
  {
   "cell_type": "code",
   "execution_count": 81,
   "metadata": {},
   "outputs": [
    {
     "name": "stdout",
     "output_type": "stream",
     "text": [
      "      pred real\n",
      "0        7    1\n",
      "1        7    1\n",
      "2        4    1\n",
      "3        9    1\n",
      "4        7    1\n",
      "...    ...  ...\n",
      "46532    4    9\n",
      "46533    7    9\n",
      "46534    9    9\n",
      "46535    9    9\n",
      "46536    7    9\n",
      "\n",
      "[46537 rows x 2 columns]\n"
     ]
    }
   ],
   "source": [
    "# Predicting\n",
    "pred = retrained_model.predict(X_train_model)\n",
    "y_train_aux = np.array(y_train_model)\n",
    "values = np.array([[pred[i], y_train_aux[i]] for i in range(len(y_train_aux))])\n",
    "results_train = pd.DataFrame(values, columns = ['pred', 'real'])\n",
    "print(results_train)"
   ]
  },
  {
   "cell_type": "code",
   "execution_count": 82,
   "metadata": {},
   "outputs": [
    {
     "name": "stdout",
     "output_type": "stream",
     "text": [
      "accuracy_score 32.88136321636547 \n",
      "\n"
     ]
    }
   ],
   "source": [
    "#Model accuracy\n",
    "acc = accuracy_score(results_train.real, results_train.pred) * 100\n",
    "accuracy[model_name] = acc\n",
    "print('accuracy_score', acc, '\\n')"
   ]
  },
  {
   "cell_type": "code",
   "execution_count": 83,
   "metadata": {},
   "outputs": [
    {
     "name": "stdout",
     "output_type": "stream",
     "text": [
      "Classification Report\n"
     ]
    },
    {
     "name": "stderr",
     "output_type": "stream",
     "text": [
      "C:\\Users\\ADMIN\\anaconda3\\lib\\site-packages\\sklearn\\metrics\\_classification.py:1318: UndefinedMetricWarning: Precision and F-score are ill-defined and being set to 0.0 in labels with no predicted samples. Use `zero_division` parameter to control this behavior.\n",
      "  _warn_prf(average, modifier, msg_start, len(result))\n"
     ]
    },
    {
     "name": "stdout",
     "output_type": "stream",
     "text": [
      "              precision    recall  f1-score   support\n",
      "\n",
      "           1       0.00      0.00      0.00      1220\n",
      "          10       0.00      0.00      0.00      6028\n",
      "          11       0.00      0.00      0.00       623\n",
      "           2       0.00      0.00      0.00      1146\n",
      "           3       0.33      0.35      0.34      8473\n",
      "           4       0.30      0.58      0.40     11799\n",
      "           5       0.08      0.01      0.01      2271\n",
      "           6       0.38      0.31      0.34      2087\n",
      "           7       0.40      0.44      0.42      8025\n",
      "           8       0.00      0.00      0.00       737\n",
      "           9       0.32      0.31      0.31      4128\n",
      "\n",
      "    accuracy                           0.33     46537\n",
      "   macro avg       0.17      0.18      0.17     46537\n",
      "weighted avg       0.26      0.33      0.28     46537\n",
      "\n"
     ]
    },
    {
     "name": "stderr",
     "output_type": "stream",
     "text": [
      "C:\\Users\\ADMIN\\anaconda3\\lib\\site-packages\\sklearn\\metrics\\_classification.py:1318: UndefinedMetricWarning: Precision and F-score are ill-defined and being set to 0.0 in labels with no predicted samples. Use `zero_division` parameter to control this behavior.\n",
      "  _warn_prf(average, modifier, msg_start, len(result))\n",
      "C:\\Users\\ADMIN\\anaconda3\\lib\\site-packages\\sklearn\\metrics\\_classification.py:1318: UndefinedMetricWarning: Precision and F-score are ill-defined and being set to 0.0 in labels with no predicted samples. Use `zero_division` parameter to control this behavior.\n",
      "  _warn_prf(average, modifier, msg_start, len(result))\n"
     ]
    }
   ],
   "source": [
    "# Classification Report\n",
    "print('Classification Report')\n",
    "print(classification_report(results_train.real, results_train.pred))"
   ]
  },
  {
   "cell_type": "code",
   "execution_count": 84,
   "metadata": {},
   "outputs": [
    {
     "name": "stdout",
     "output_type": "stream",
     "text": [
      "      pred real\n",
      "0        7    9\n",
      "1        4    4\n",
      "2        3    7\n",
      "3        3    7\n",
      "4        3    4\n",
      "...    ...  ...\n",
      "82425    7   10\n",
      "82426    3    7\n",
      "82427    7   10\n",
      "82428    9    4\n",
      "82429    4    4\n",
      "\n",
      "[82430 rows x 2 columns]\n"
     ]
    }
   ],
   "source": [
    "# Predicting\n",
    "pred = retrained_model.predict(X_test_model)\n",
    "y_test_aux = np.array(y_test_model)\n",
    "values = np.array([[pred[i], y_test_aux[i]] for i in range(len(y_test_aux))])\n",
    "results_test = pd.DataFrame(values, columns = ['pred', 'real'])\n",
    "print(results_test)"
   ]
  },
  {
   "cell_type": "code",
   "execution_count": 85,
   "metadata": {},
   "outputs": [
    {
     "name": "stdout",
     "output_type": "stream",
     "text": [
      "accuracy_score 34.00339682154556 \n",
      "\n"
     ]
    }
   ],
   "source": [
    "#Model accuracy\n",
    "acc = accuracy_score(results_test.real, results_test.pred) * 100\n",
    "accuracy[model_name] = acc\n",
    "print('accuracy_score', acc, '\\n')"
   ]
  },
  {
   "cell_type": "code",
   "execution_count": 86,
   "metadata": {},
   "outputs": [
    {
     "name": "stdout",
     "output_type": "stream",
     "text": [
      "Classification Report\n"
     ]
    },
    {
     "name": "stderr",
     "output_type": "stream",
     "text": [
      "C:\\Users\\ADMIN\\anaconda3\\lib\\site-packages\\sklearn\\metrics\\_classification.py:1318: UndefinedMetricWarning: Precision and F-score are ill-defined and being set to 0.0 in labels with no predicted samples. Use `zero_division` parameter to control this behavior.\n",
      "  _warn_prf(average, modifier, msg_start, len(result))\n",
      "C:\\Users\\ADMIN\\anaconda3\\lib\\site-packages\\sklearn\\metrics\\_classification.py:1318: UndefinedMetricWarning: Precision and F-score are ill-defined and being set to 0.0 in labels with no predicted samples. Use `zero_division` parameter to control this behavior.\n",
      "  _warn_prf(average, modifier, msg_start, len(result))\n"
     ]
    },
    {
     "name": "stdout",
     "output_type": "stream",
     "text": [
      "              precision    recall  f1-score   support\n",
      "\n",
      "           1       0.00      0.00      0.00      1476\n",
      "          10       0.00      0.00      0.00      9086\n",
      "          11       0.00      0.00      0.00       677\n",
      "           2       0.00      0.00      0.00      1488\n",
      "           3       0.30      0.27      0.28     16351\n",
      "           4       0.38      0.58      0.46     27312\n",
      "           5       0.14      0.02      0.03      3123\n",
      "           6       0.19      0.20      0.19      2545\n",
      "           7       0.34      0.39      0.37     13623\n",
      "           8       0.00      0.00      0.00       854\n",
      "           9       0.25      0.33      0.29      5895\n",
      "\n",
      "    accuracy                           0.34     82430\n",
      "   macro avg       0.15      0.16      0.15     82430\n",
      "weighted avg       0.27      0.34      0.30     82430\n",
      "\n"
     ]
    },
    {
     "name": "stderr",
     "output_type": "stream",
     "text": [
      "C:\\Users\\ADMIN\\anaconda3\\lib\\site-packages\\sklearn\\metrics\\_classification.py:1318: UndefinedMetricWarning: Precision and F-score are ill-defined and being set to 0.0 in labels with no predicted samples. Use `zero_division` parameter to control this behavior.\n",
      "  _warn_prf(average, modifier, msg_start, len(result))\n"
     ]
    }
   ],
   "source": [
    "# Classification Report\n",
    "print('Classification Report')\n",
    "print(classification_report(results_test.real, results_test.pred))"
   ]
  },
  {
   "cell_type": "markdown",
   "metadata": {},
   "source": [
    "### SGD Classifier"
   ]
  },
  {
   "cell_type": "code",
   "execution_count": 87,
   "metadata": {},
   "outputs": [
    {
     "name": "stdout",
     "output_type": "stream",
     "text": [
      "SGD Classifier\n",
      "[0.0090245  0.08358401 0.         0.10787579 0.03911035]\n",
      "SGD Classifier: 0.047919 (0.041841)\n",
      "accuracy_score 35.94079825306321 \n",
      "\n",
      "Classification Report\n"
     ]
    },
    {
     "name": "stderr",
     "output_type": "stream",
     "text": [
      "C:\\Users\\ADMIN\\anaconda3\\lib\\site-packages\\sklearn\\metrics\\_classification.py:1318: UndefinedMetricWarning: Precision and F-score are ill-defined and being set to 0.0 in labels with no predicted samples. Use `zero_division` parameter to control this behavior.\n",
      "  _warn_prf(average, modifier, msg_start, len(result))\n",
      "C:\\Users\\ADMIN\\anaconda3\\lib\\site-packages\\sklearn\\metrics\\_classification.py:1318: UndefinedMetricWarning: Precision and F-score are ill-defined and being set to 0.0 in labels with no predicted samples. Use `zero_division` parameter to control this behavior.\n",
      "  _warn_prf(average, modifier, msg_start, len(result))\n"
     ]
    },
    {
     "name": "stdout",
     "output_type": "stream",
     "text": [
      "              precision    recall  f1-score   support\n",
      "\n",
      "           1       0.00      0.00      0.00      1476\n",
      "          10       0.00      0.00      0.00      9086\n",
      "          11       0.00      0.00      0.00       677\n",
      "           2       0.00      0.00      0.00      1488\n",
      "           3       0.35      0.27      0.31     16351\n",
      "           4       0.38      0.67      0.49     27312\n",
      "           5       0.00      0.00      0.00      3123\n",
      "           6       0.23      0.17      0.19      2545\n",
      "           7       0.37      0.32      0.35     13623\n",
      "           8       0.00      0.00      0.00       854\n",
      "           9       0.26      0.35      0.29      5895\n",
      "\n",
      "    accuracy                           0.36     82430\n",
      "   macro avg       0.14      0.16      0.15     82430\n",
      "weighted avg       0.28      0.36      0.31     82430\n",
      "\n"
     ]
    },
    {
     "name": "stderr",
     "output_type": "stream",
     "text": [
      "C:\\Users\\ADMIN\\anaconda3\\lib\\site-packages\\sklearn\\metrics\\_classification.py:1318: UndefinedMetricWarning: Precision and F-score are ill-defined and being set to 0.0 in labels with no predicted samples. Use `zero_division` parameter to control this behavior.\n",
      "  _warn_prf(average, modifier, msg_start, len(result))\n"
     ]
    }
   ],
   "source": [
    "model = linear_model.SGDClassifier(loss='log', penalty='l2', max_iter=1000, tol=1e-5)\n",
    "model_name='SGD Classifier'\n",
    "train_model(model, model_name, X_train_model, y_train_model, X_test_model, y_test_model)"
   ]
  },
  {
   "cell_type": "markdown",
   "metadata": {},
   "source": [
    "https://www.aprendemachinelearning.com/regresion-logistica-con-python-paso-a-paso/"
   ]
  },
  {
   "cell_type": "markdown",
   "metadata": {},
   "source": [
    "## Asignación 2 &#x1F921;\n",
    "\n",
    "Evalue su modelo final en el conjunto de test (X_test y y_test). Su práctica será evaluada acorde a las técnicas aplicadas, la estimación de $E_{out}$, el valor de $E_{test}$, y contra las métricas obtenidas por sus compañeros."
   ]
  },
  {
   "cell_type": "code",
   "execution_count": null,
   "metadata": {},
   "outputs": [],
   "source": []
  }
 ],
 "metadata": {
  "kernelspec": {
   "display_name": "Python 3 (ipykernel)",
   "language": "python",
   "name": "python3"
  },
  "language_info": {
   "codemirror_mode": {
    "name": "ipython",
    "version": 3
   },
   "file_extension": ".py",
   "mimetype": "text/x-python",
   "name": "python",
   "nbconvert_exporter": "python",
   "pygments_lexer": "ipython3",
   "version": "3.9.12"
  }
 },
 "nbformat": 4,
 "nbformat_minor": 4
}
