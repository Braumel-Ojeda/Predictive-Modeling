{
 "cells": [
  {
   "cell_type": "code",
   "execution_count": 223,
   "metadata": {},
   "outputs": [],
   "source": [
    "# Execute if necessary\n",
    "# %%capture\n",
    "# !pip install numpy seaborn matplotlib pandas"
   ]
  },
  {
   "cell_type": "code",
   "execution_count": 224,
   "metadata": {},
   "outputs": [],
   "source": [
    "import numpy as np\n",
    "import seaborn as sns\n",
    "import matplotlib.pyplot as plt\n",
    "import pandas as pd\n",
    "from typing import Dict, Tuple, Union, List"
   ]
  },
  {
   "cell_type": "markdown",
   "metadata": {},
   "source": [
    "# Práctica 2: Preprocesamiento Básico"
   ]
  },
  {
   "cell_type": "markdown",
   "metadata": {},
   "source": [
    "__Instrucciones__: A continuación hay una lista de funciones que debe implementar o tareas que debe desarrollar. La descripción de cada una de ellas se encuentra en la definición de cada una de las funciones. Cada función está marcada por &#x1F625;,  &#x1F643; o &#x1F921;. Las marcas indican:\n",
    "\n",
    "- &#x1F625;: Indican una entrega que debe ser hecha dentro de la misma sesión de la asignación. \n",
    "- &#x1F643;: Indican una entrega que puede ser hecha hasta la siguiente sesión.\n",
    "- &#x1F921;: Debe mostrar un avance en la misma sesión, pero la entrega puede ser hecha en la siguiente.\n",
    "\n",
    "Aquellas entregas parciales que no sean hechas el día de la asignación ya no serán válidas para las entregas totales, sin embargo, las entregas totales seguirán siendo válidas."
   ]
  },
  {
   "cell_type": "markdown",
   "metadata": {},
   "source": [
    "En esta sección se incluye un dataset real. El dataset importado incluye multiples características que describen las condiciones de los pasajeros en el accidente del titanic.\n",
    "\n",
    "- __PassengerId__: Identificador de cada pasajero.\n",
    "- __Survived__: 0 si no sobrevivió al accidente, 1 si lo hizo.\n",
    "- __Pclass__: Clase en la que viajaba el pasajero, 1 - Primera clase, 2 - Segunda clase y 3 - Tercera clase.\n",
    "- __Name__: Nombre del pasajero.\n",
    "- __Sex__: Sexo del pasajero.\n",
    "- __Age__: Edad del pasajero.\n",
    "- __SibSp__: Número de hermanos más número de esposas con las que viajaba el pasajero.\n",
    "- __Parch__: Número de padres más número de hijos con las que viajaba el pasajero.\n",
    "- __Ticket__: Número de boleto.\n",
    "- __Fare__: Tarifa del boleto del pasajero.\n",
    "- __Cabin__: Número de cabina del pasajero.\n",
    "- __Embarked__: Puerto de embarcación, C - Cherbourg, Q - Queenstown y S - Southampton.\n"
   ]
  },
  {
   "cell_type": "code",
   "execution_count": 225,
   "metadata": {},
   "outputs": [
    {
     "data": {
      "text/html": [
       "<div>\n",
       "<style scoped>\n",
       "    .dataframe tbody tr th:only-of-type {\n",
       "        vertical-align: middle;\n",
       "    }\n",
       "\n",
       "    .dataframe tbody tr th {\n",
       "        vertical-align: top;\n",
       "    }\n",
       "\n",
       "    .dataframe thead th {\n",
       "        text-align: right;\n",
       "    }\n",
       "</style>\n",
       "<table border=\"1\" class=\"dataframe\">\n",
       "  <thead>\n",
       "    <tr style=\"text-align: right;\">\n",
       "      <th></th>\n",
       "      <th>PassengerId</th>\n",
       "      <th>Survived</th>\n",
       "      <th>Pclass</th>\n",
       "      <th>Name</th>\n",
       "      <th>Sex</th>\n",
       "      <th>Age</th>\n",
       "      <th>SibSp</th>\n",
       "      <th>Parch</th>\n",
       "      <th>Ticket</th>\n",
       "      <th>Fare</th>\n",
       "      <th>Cabin</th>\n",
       "      <th>Embarked</th>\n",
       "    </tr>\n",
       "  </thead>\n",
       "  <tbody>\n",
       "    <tr>\n",
       "      <th>0</th>\n",
       "      <td>1</td>\n",
       "      <td>0</td>\n",
       "      <td>3</td>\n",
       "      <td>Braund, Mr. Owen Harris</td>\n",
       "      <td>male</td>\n",
       "      <td>22.0</td>\n",
       "      <td>1</td>\n",
       "      <td>0</td>\n",
       "      <td>A/5 21171</td>\n",
       "      <td>7.2500</td>\n",
       "      <td>NaN</td>\n",
       "      <td>S</td>\n",
       "    </tr>\n",
       "    <tr>\n",
       "      <th>1</th>\n",
       "      <td>2</td>\n",
       "      <td>1</td>\n",
       "      <td>1</td>\n",
       "      <td>Cumings, Mrs. John Bradley (Florence Briggs Th...</td>\n",
       "      <td>female</td>\n",
       "      <td>38.0</td>\n",
       "      <td>1</td>\n",
       "      <td>0</td>\n",
       "      <td>PC 17599</td>\n",
       "      <td>71.2833</td>\n",
       "      <td>C85</td>\n",
       "      <td>C</td>\n",
       "    </tr>\n",
       "    <tr>\n",
       "      <th>2</th>\n",
       "      <td>3</td>\n",
       "      <td>1</td>\n",
       "      <td>3</td>\n",
       "      <td>Heikkinen, Miss. Laina</td>\n",
       "      <td>female</td>\n",
       "      <td>26.0</td>\n",
       "      <td>0</td>\n",
       "      <td>0</td>\n",
       "      <td>STON/O2. 3101282</td>\n",
       "      <td>7.9250</td>\n",
       "      <td>NaN</td>\n",
       "      <td>S</td>\n",
       "    </tr>\n",
       "  </tbody>\n",
       "</table>\n",
       "</div>"
      ],
      "text/plain": [
       "   PassengerId  Survived  Pclass  \\\n",
       "0            1         0       3   \n",
       "1            2         1       1   \n",
       "2            3         1       3   \n",
       "\n",
       "                                                Name     Sex   Age  SibSp  \\\n",
       "0                            Braund, Mr. Owen Harris    male  22.0      1   \n",
       "1  Cumings, Mrs. John Bradley (Florence Briggs Th...  female  38.0      1   \n",
       "2                             Heikkinen, Miss. Laina  female  26.0      0   \n",
       "\n",
       "   Parch            Ticket     Fare Cabin Embarked  \n",
       "0      0         A/5 21171   7.2500   NaN        S  \n",
       "1      0          PC 17599  71.2833   C85        C  \n",
       "2      0  STON/O2. 3101282   7.9250   NaN        S  "
      ]
     },
     "execution_count": 225,
     "metadata": {},
     "output_type": "execute_result"
    }
   ],
   "source": [
    "df = pd.read_csv(\"titanic.csv\")\n",
    "df.head(3)"
   ]
  },
  {
   "cell_type": "markdown",
   "metadata": {},
   "source": [
    "## Asignación 1 &#x1F625;\n",
    "\n",
    "En una sola figura grafique el histograma de la edad, el histograma de la edad centrado en una media de 0 y desviación estándar de 1, y el histograma de la edad acotado a que el valor mínimo sea 0 y el máximo sea 1."
   ]
  },
  {
   "cell_type": "code",
   "execution_count": 226,
   "metadata": {},
   "outputs": [
    {
     "data": {
      "text/plain": [
       "<matplotlib.lines.Line2D at 0x26045eba880>"
      ]
     },
     "execution_count": 226,
     "metadata": {},
     "output_type": "execute_result"
    },
    {
     "data": {
      "image/png": "[encoded data removed]",
      "text/plain": [
       "<Figure size 1080x360 with 3 Axes>"
      ]
     },
     "metadata": {
      "needs_background": "light"
     },
     "output_type": "display_data"
    }
   ],
   "source": [
    "__fig__, __axs__ = plt.subplots(ncols=3, figsize=(15, 5))\n",
    "__fig__.subplots_adjust(hspace=0.1, wspace=0.3)\n",
    "__axs__[0].set(title=\"Age (mean = {}, std = {})\".format(round(df.Age.mean(), 2), round((df.Age.var())**(1/2), 2)))\n",
    "_ = sns.histplot(x=df.Age, ax=__axs__[0])\n",
    "_.axvline(x=df.Age.mean(),\n",
    "            color='blue',\n",
    "            ls='--', \n",
    "            lw=2.5)\n",
    "\n",
    "scaled_age = (df.Age - df.Age.mean()) / (df.Age.var())**(1/2)\n",
    "__axs__[1].set(title=\"Scaled age (mean = {}, std = {})\".format(round(scaled_age.mean(), 2), round((scaled_age.var())**(1/2), 2)))\n",
    "_ = sns.histplot(x=scaled_age, ax=__axs__[1])\n",
    "_.axvline(x=scaled_age.mean(),\n",
    "            color='blue',\n",
    "            ls='--', \n",
    "            lw=2.5)\n",
    "\n",
    "minmax_scaled_age = (df.Age - df.Age.min()) / (df.Age.max() - df.Age.min())\n",
    "__axs__[2].set(title=\"Min-max scaled age (mean = {}, std = {})\".format(round(minmax_scaled_age.mean(), 2), round((minmax_scaled_age.var())**(1/2), 2)))\n",
    "_ = sns.histplot(x=minmax_scaled_age, ax=__axs__[2])\n",
    "_.axvline(x=minmax_scaled_age.mean(),\n",
    "            color='blue',\n",
    "            ls='--', \n",
    "            lw=2.5)"
   ]
  },
  {
   "cell_type": "markdown",
   "metadata": {},
   "source": [
    "## Asignación 2 &#x1F625;\n",
    "\n",
    "Calcule e imprima el skewness de la tarifa. Grafique su histograma. Aplique la función de su preferencia para remover el skewness, calcule e imprima el valor del skewness para la función transformada y grafique su histograma."
   ]
  },
  {
   "cell_type": "code",
   "execution_count": 227,
   "metadata": {},
   "outputs": [],
   "source": [
    "def calc_skewness(x):\n",
    "    return (((x - x.mean()) / (x.var() ** (1/2))) ** 3).mean()"
   ]
  },
  {
   "cell_type": "code",
   "execution_count": 228,
   "metadata": {},
   "outputs": [
    {
     "data": {
      "text/plain": [
       "4.771209669373592"
      ]
     },
     "execution_count": 228,
     "metadata": {},
     "output_type": "execute_result"
    }
   ],
   "source": [
    "skewness = calc_skewness(df.Fare)\n",
    "skewness"
   ]
  },
  {
   "cell_type": "code",
   "execution_count": 229,
   "metadata": {},
   "outputs": [],
   "source": [
    "df_fare_array = np.array(df.Fare.fillna(df.Fare.mean()))\n",
    "df_fare_array[df_fare_array == 0] = 0.001\n",
    "#fare_function = np.log(df_fare_array)\n",
    "fare_function = (df_fare_array) ** (1/2)\n",
    "#fare_function = (df_fare_array) ** (-1)"
   ]
  },
  {
   "cell_type": "code",
   "execution_count": 230,
   "metadata": {
    "scrolled": true
   },
   "outputs": [
    {
     "data": {
      "text/plain": [
       "2.084269758721428"
      ]
     },
     "execution_count": 230,
     "metadata": {},
     "output_type": "execute_result"
    }
   ],
   "source": [
    "improved_skewness = calc_skewness(fare_function)\n",
    "improved_skewness"
   ]
  },
  {
   "cell_type": "code",
   "execution_count": 231,
   "metadata": {},
   "outputs": [
    {
     "data": {
      "image/png": "[encoded data removed]",
      "text/plain": [
       "<Figure size 1080x360 with 2 Axes>"
      ]
     },
     "metadata": {
      "needs_background": "light"
     },
     "output_type": "display_data"
    }
   ],
   "source": [
    "__fig__, __axs__ = plt.subplots(ncols=2, figsize=(15, 5))\n",
    "__fig__.subplots_adjust(hspace=0.1, wspace=0.3)\n",
    "__axs__[0].set(title=\"Fare (skewness = {})\".format(round(skewness, 2)))\n",
    "_ = sns.histplot(x=df.Fare, ax=__axs__[0])\n",
    "\n",
    "__axs__[1].set(title=\"Fare (skewness = {})\".format(round(improved_skewness, 2)))\n",
    "_ = sns.histplot(x=fare_function, ax=__axs__[1])"
   ]
  },
  {
   "cell_type": "markdown",
   "metadata": {},
   "source": [
    "## Asignación 3 &#x1F921;\n",
    "\n",
    "Convierta la características __Sex__ y __Embarked__ a su versión de One hot encoding y agreguelas al dataframe original."
   ]
  },
  {
   "cell_type": "code",
   "execution_count": 232,
   "metadata": {},
   "outputs": [],
   "source": [
    "sexs_encoded = pd.get_dummies(pd.Series(df[\"Sex\"]))\n",
    "#sexs_encoded.columns = ['Sex_' + c for c in list(sexs_encoded.columns.values)]\n",
    "embarked_encoded = pd.get_dummies(pd.Series(df[\"Embarked\"]))\n",
    "#embarked_encoded.columns = ['Embarked_' + c for c in list(embarked_encoded.columns.values)]"
   ]
  },
  {
   "cell_type": "code",
   "execution_count": 233,
   "metadata": {},
   "outputs": [],
   "source": [
    "df[['Sex_' + c for c in list(sexs_encoded.columns.values)]] = sexs_encoded\n",
    "df[['Embarked_' + c for c in list(embarked_encoded.columns.values)]] = embarked_encoded"
   ]
  },
  {
   "cell_type": "code",
   "execution_count": 234,
   "metadata": {},
   "outputs": [
    {
     "data": {
      "text/html": [
       "<div>\n",
       "<style scoped>\n",
       "    .dataframe tbody tr th:only-of-type {\n",
       "        vertical-align: middle;\n",
       "    }\n",
       "\n",
       "    .dataframe tbody tr th {\n",
       "        vertical-align: top;\n",
       "    }\n",
       "\n",
       "    .dataframe thead th {\n",
       "        text-align: right;\n",
       "    }\n",
       "</style>\n",
       "<table border=\"1\" class=\"dataframe\">\n",
       "  <thead>\n",
       "    <tr style=\"text-align: right;\">\n",
       "      <th></th>\n",
       "      <th>PassengerId</th>\n",
       "      <th>Survived</th>\n",
       "      <th>Pclass</th>\n",
       "      <th>Name</th>\n",
       "      <th>Sex</th>\n",
       "      <th>Age</th>\n",
       "      <th>SibSp</th>\n",
       "      <th>Parch</th>\n",
       "      <th>Ticket</th>\n",
       "      <th>Fare</th>\n",
       "      <th>Cabin</th>\n",
       "      <th>Embarked</th>\n",
       "      <th>Sex_female</th>\n",
       "      <th>Sex_male</th>\n",
       "      <th>Embarked_C</th>\n",
       "      <th>Embarked_Q</th>\n",
       "      <th>Embarked_S</th>\n",
       "    </tr>\n",
       "  </thead>\n",
       "  <tbody>\n",
       "    <tr>\n",
       "      <th>0</th>\n",
       "      <td>1</td>\n",
       "      <td>0</td>\n",
       "      <td>3</td>\n",
       "      <td>Braund, Mr. Owen Harris</td>\n",
       "      <td>male</td>\n",
       "      <td>22.0</td>\n",
       "      <td>1</td>\n",
       "      <td>0</td>\n",
       "      <td>A/5 21171</td>\n",
       "      <td>7.2500</td>\n",
       "      <td>NaN</td>\n",
       "      <td>S</td>\n",
       "      <td>0</td>\n",
       "      <td>1</td>\n",
       "      <td>0</td>\n",
       "      <td>0</td>\n",
       "      <td>1</td>\n",
       "    </tr>\n",
       "    <tr>\n",
       "      <th>1</th>\n",
       "      <td>2</td>\n",
       "      <td>1</td>\n",
       "      <td>1</td>\n",
       "      <td>Cumings, Mrs. John Bradley (Florence Briggs Th...</td>\n",
       "      <td>female</td>\n",
       "      <td>38.0</td>\n",
       "      <td>1</td>\n",
       "      <td>0</td>\n",
       "      <td>PC 17599</td>\n",
       "      <td>71.2833</td>\n",
       "      <td>C85</td>\n",
       "      <td>C</td>\n",
       "      <td>1</td>\n",
       "      <td>0</td>\n",
       "      <td>1</td>\n",
       "      <td>0</td>\n",
       "      <td>0</td>\n",
       "    </tr>\n",
       "    <tr>\n",
       "      <th>2</th>\n",
       "      <td>3</td>\n",
       "      <td>1</td>\n",
       "      <td>3</td>\n",
       "      <td>Heikkinen, Miss. Laina</td>\n",
       "      <td>female</td>\n",
       "      <td>26.0</td>\n",
       "      <td>0</td>\n",
       "      <td>0</td>\n",
       "      <td>STON/O2. 3101282</td>\n",
       "      <td>7.9250</td>\n",
       "      <td>NaN</td>\n",
       "      <td>S</td>\n",
       "      <td>1</td>\n",
       "      <td>0</td>\n",
       "      <td>0</td>\n",
       "      <td>0</td>\n",
       "      <td>1</td>\n",
       "    </tr>\n",
       "    <tr>\n",
       "      <th>3</th>\n",
       "      <td>4</td>\n",
       "      <td>1</td>\n",
       "      <td>1</td>\n",
       "      <td>Futrelle, Mrs. Jacques Heath (Lily May Peel)</td>\n",
       "      <td>female</td>\n",
       "      <td>35.0</td>\n",
       "      <td>1</td>\n",
       "      <td>0</td>\n",
       "      <td>113803</td>\n",
       "      <td>53.1000</td>\n",
       "      <td>C123</td>\n",
       "      <td>S</td>\n",
       "      <td>1</td>\n",
       "      <td>0</td>\n",
       "      <td>0</td>\n",
       "      <td>0</td>\n",
       "      <td>1</td>\n",
       "    </tr>\n",
       "    <tr>\n",
       "      <th>4</th>\n",
       "      <td>5</td>\n",
       "      <td>0</td>\n",
       "      <td>3</td>\n",
       "      <td>Allen, Mr. William Henry</td>\n",
       "      <td>male</td>\n",
       "      <td>35.0</td>\n",
       "      <td>0</td>\n",
       "      <td>0</td>\n",
       "      <td>373450</td>\n",
       "      <td>8.0500</td>\n",
       "      <td>NaN</td>\n",
       "      <td>S</td>\n",
       "      <td>0</td>\n",
       "      <td>1</td>\n",
       "      <td>0</td>\n",
       "      <td>0</td>\n",
       "      <td>1</td>\n",
       "    </tr>\n",
       "    <tr>\n",
       "      <th>...</th>\n",
       "      <td>...</td>\n",
       "      <td>...</td>\n",
       "      <td>...</td>\n",
       "      <td>...</td>\n",
       "      <td>...</td>\n",
       "      <td>...</td>\n",
       "      <td>...</td>\n",
       "      <td>...</td>\n",
       "      <td>...</td>\n",
       "      <td>...</td>\n",
       "      <td>...</td>\n",
       "      <td>...</td>\n",
       "      <td>...</td>\n",
       "      <td>...</td>\n",
       "      <td>...</td>\n",
       "      <td>...</td>\n",
       "      <td>...</td>\n",
       "    </tr>\n",
       "    <tr>\n",
       "      <th>886</th>\n",
       "      <td>887</td>\n",
       "      <td>0</td>\n",
       "      <td>2</td>\n",
       "      <td>Montvila, Rev. Juozas</td>\n",
       "      <td>male</td>\n",
       "      <td>27.0</td>\n",
       "      <td>0</td>\n",
       "      <td>0</td>\n",
       "      <td>211536</td>\n",
       "      <td>13.0000</td>\n",
       "      <td>NaN</td>\n",
       "      <td>S</td>\n",
       "      <td>0</td>\n",
       "      <td>1</td>\n",
       "      <td>0</td>\n",
       "      <td>0</td>\n",
       "      <td>1</td>\n",
       "    </tr>\n",
       "    <tr>\n",
       "      <th>887</th>\n",
       "      <td>888</td>\n",
       "      <td>1</td>\n",
       "      <td>1</td>\n",
       "      <td>Graham, Miss. Margaret Edith</td>\n",
       "      <td>female</td>\n",
       "      <td>19.0</td>\n",
       "      <td>0</td>\n",
       "      <td>0</td>\n",
       "      <td>112053</td>\n",
       "      <td>30.0000</td>\n",
       "      <td>B42</td>\n",
       "      <td>S</td>\n",
       "      <td>1</td>\n",
       "      <td>0</td>\n",
       "      <td>0</td>\n",
       "      <td>0</td>\n",
       "      <td>1</td>\n",
       "    </tr>\n",
       "    <tr>\n",
       "      <th>888</th>\n",
       "      <td>889</td>\n",
       "      <td>0</td>\n",
       "      <td>3</td>\n",
       "      <td>Johnston, Miss. Catherine Helen \"Carrie\"</td>\n",
       "      <td>female</td>\n",
       "      <td>NaN</td>\n",
       "      <td>1</td>\n",
       "      <td>2</td>\n",
       "      <td>W./C. 6607</td>\n",
       "      <td>23.4500</td>\n",
       "      <td>NaN</td>\n",
       "      <td>S</td>\n",
       "      <td>1</td>\n",
       "      <td>0</td>\n",
       "      <td>0</td>\n",
       "      <td>0</td>\n",
       "      <td>1</td>\n",
       "    </tr>\n",
       "    <tr>\n",
       "      <th>889</th>\n",
       "      <td>890</td>\n",
       "      <td>1</td>\n",
       "      <td>1</td>\n",
       "      <td>Behr, Mr. Karl Howell</td>\n",
       "      <td>male</td>\n",
       "      <td>26.0</td>\n",
       "      <td>0</td>\n",
       "      <td>0</td>\n",
       "      <td>111369</td>\n",
       "      <td>30.0000</td>\n",
       "      <td>C148</td>\n",
       "      <td>C</td>\n",
       "      <td>0</td>\n",
       "      <td>1</td>\n",
       "      <td>1</td>\n",
       "      <td>0</td>\n",
       "      <td>0</td>\n",
       "    </tr>\n",
       "    <tr>\n",
       "      <th>890</th>\n",
       "      <td>891</td>\n",
       "      <td>0</td>\n",
       "      <td>3</td>\n",
       "      <td>Dooley, Mr. Patrick</td>\n",
       "      <td>male</td>\n",
       "      <td>32.0</td>\n",
       "      <td>0</td>\n",
       "      <td>0</td>\n",
       "      <td>370376</td>\n",
       "      <td>7.7500</td>\n",
       "      <td>NaN</td>\n",
       "      <td>Q</td>\n",
       "      <td>0</td>\n",
       "      <td>1</td>\n",
       "      <td>0</td>\n",
       "      <td>1</td>\n",
       "      <td>0</td>\n",
       "    </tr>\n",
       "  </tbody>\n",
       "</table>\n",
       "<p>891 rows × 17 columns</p>\n",
       "</div>"
      ],
      "text/plain": [
       "     PassengerId  Survived  Pclass  \\\n",
       "0              1         0       3   \n",
       "1              2         1       1   \n",
       "2              3         1       3   \n",
       "3              4         1       1   \n",
       "4              5         0       3   \n",
       "..           ...       ...     ...   \n",
       "886          887         0       2   \n",
       "887          888         1       1   \n",
       "888          889         0       3   \n",
       "889          890         1       1   \n",
       "890          891         0       3   \n",
       "\n",
       "                                                  Name     Sex   Age  SibSp  \\\n",
       "0                              Braund, Mr. Owen Harris    male  22.0      1   \n",
       "1    Cumings, Mrs. John Bradley (Florence Briggs Th...  female  38.0      1   \n",
       "2                               Heikkinen, Miss. Laina  female  26.0      0   \n",
       "3         Futrelle, Mrs. Jacques Heath (Lily May Peel)  female  35.0      1   \n",
       "4                             Allen, Mr. William Henry    male  35.0      0   \n",
       "..                                                 ...     ...   ...    ...   \n",
       "886                              Montvila, Rev. Juozas    male  27.0      0   \n",
       "887                       Graham, Miss. Margaret Edith  female  19.0      0   \n",
       "888           Johnston, Miss. Catherine Helen \"Carrie\"  female   NaN      1   \n",
       "889                              Behr, Mr. Karl Howell    male  26.0      0   \n",
       "890                                Dooley, Mr. Patrick    male  32.0      0   \n",
       "\n",
       "     Parch            Ticket     Fare Cabin Embarked  Sex_female  Sex_male  \\\n",
       "0        0         A/5 21171   7.2500   NaN        S           0         1   \n",
       "1        0          PC 17599  71.2833   C85        C           1         0   \n",
       "2        0  STON/O2. 3101282   7.9250   NaN        S           1         0   \n",
       "3        0            113803  53.1000  C123        S           1         0   \n",
       "4        0            373450   8.0500   NaN        S           0         1   \n",
       "..     ...               ...      ...   ...      ...         ...       ...   \n",
       "886      0            211536  13.0000   NaN        S           0         1   \n",
       "887      0            112053  30.0000   B42        S           1         0   \n",
       "888      2        W./C. 6607  23.4500   NaN        S           1         0   \n",
       "889      0            111369  30.0000  C148        C           0         1   \n",
       "890      0            370376   7.7500   NaN        Q           0         1   \n",
       "\n",
       "     Embarked_C  Embarked_Q  Embarked_S  \n",
       "0             0           0           1  \n",
       "1             1           0           0  \n",
       "2             0           0           1  \n",
       "3             0           0           1  \n",
       "4             0           0           1  \n",
       "..          ...         ...         ...  \n",
       "886           0           0           1  \n",
       "887           0           0           1  \n",
       "888           0           0           1  \n",
       "889           1           0           0  \n",
       "890           0           1           0  \n",
       "\n",
       "[891 rows x 17 columns]"
      ]
     },
     "execution_count": 234,
     "metadata": {},
     "output_type": "execute_result"
    }
   ],
   "source": [
    "df"
   ]
  },
  {
   "cell_type": "markdown",
   "metadata": {},
   "source": [
    "## Asignación 4 &#x1F643;\n",
    "\n",
    "Implemente PCA dentro de una función (usted debe definirla) y apliquela para gráficar en un scatterplot de dos dimensiones los datos. (No incluya las características __Name__, __Ticket__ y __Cabin__)."
   ]
  },
  {
   "cell_type": "markdown",
   "metadata": {},
   "source": [
    "https://www.askpython.com/python/examples/principal-component-analysis\n",
    "\n",
    "https://statisticsglobe.com/biplot-pca-python"
   ]
  },
  {
   "cell_type": "code",
   "execution_count": 235,
   "metadata": {},
   "outputs": [],
   "source": [
    "df_pca = df.drop(columns = ['PassengerId', 'Sex', 'Embarked', 'Name', 'Ticket', 'Cabin'])"
   ]
  },
  {
   "cell_type": "code",
   "execution_count": 236,
   "metadata": {},
   "outputs": [
    {
     "data": {
      "text/html": [
       "<div>\n",
       "<style scoped>\n",
       "    .dataframe tbody tr th:only-of-type {\n",
       "        vertical-align: middle;\n",
       "    }\n",
       "\n",
       "    .dataframe tbody tr th {\n",
       "        vertical-align: top;\n",
       "    }\n",
       "\n",
       "    .dataframe thead th {\n",
       "        text-align: right;\n",
       "    }\n",
       "</style>\n",
       "<table border=\"1\" class=\"dataframe\">\n",
       "  <thead>\n",
       "    <tr style=\"text-align: right;\">\n",
       "      <th></th>\n",
       "      <th>Survived</th>\n",
       "      <th>Pclass</th>\n",
       "      <th>Age</th>\n",
       "      <th>SibSp</th>\n",
       "      <th>Parch</th>\n",
       "      <th>Fare</th>\n",
       "      <th>Sex_female</th>\n",
       "      <th>Sex_male</th>\n",
       "      <th>Embarked_C</th>\n",
       "      <th>Embarked_Q</th>\n",
       "      <th>Embarked_S</th>\n",
       "    </tr>\n",
       "  </thead>\n",
       "  <tbody>\n",
       "    <tr>\n",
       "      <th>0</th>\n",
       "      <td>0</td>\n",
       "      <td>3</td>\n",
       "      <td>22.0</td>\n",
       "      <td>1</td>\n",
       "      <td>0</td>\n",
       "      <td>7.2500</td>\n",
       "      <td>0</td>\n",
       "      <td>1</td>\n",
       "      <td>0</td>\n",
       "      <td>0</td>\n",
       "      <td>1</td>\n",
       "    </tr>\n",
       "    <tr>\n",
       "      <th>1</th>\n",
       "      <td>1</td>\n",
       "      <td>1</td>\n",
       "      <td>38.0</td>\n",
       "      <td>1</td>\n",
       "      <td>0</td>\n",
       "      <td>71.2833</td>\n",
       "      <td>1</td>\n",
       "      <td>0</td>\n",
       "      <td>1</td>\n",
       "      <td>0</td>\n",
       "      <td>0</td>\n",
       "    </tr>\n",
       "    <tr>\n",
       "      <th>2</th>\n",
       "      <td>1</td>\n",
       "      <td>3</td>\n",
       "      <td>26.0</td>\n",
       "      <td>0</td>\n",
       "      <td>0</td>\n",
       "      <td>7.9250</td>\n",
       "      <td>1</td>\n",
       "      <td>0</td>\n",
       "      <td>0</td>\n",
       "      <td>0</td>\n",
       "      <td>1</td>\n",
       "    </tr>\n",
       "    <tr>\n",
       "      <th>3</th>\n",
       "      <td>1</td>\n",
       "      <td>1</td>\n",
       "      <td>35.0</td>\n",
       "      <td>1</td>\n",
       "      <td>0</td>\n",
       "      <td>53.1000</td>\n",
       "      <td>1</td>\n",
       "      <td>0</td>\n",
       "      <td>0</td>\n",
       "      <td>0</td>\n",
       "      <td>1</td>\n",
       "    </tr>\n",
       "    <tr>\n",
       "      <th>4</th>\n",
       "      <td>0</td>\n",
       "      <td>3</td>\n",
       "      <td>35.0</td>\n",
       "      <td>0</td>\n",
       "      <td>0</td>\n",
       "      <td>8.0500</td>\n",
       "      <td>0</td>\n",
       "      <td>1</td>\n",
       "      <td>0</td>\n",
       "      <td>0</td>\n",
       "      <td>1</td>\n",
       "    </tr>\n",
       "    <tr>\n",
       "      <th>...</th>\n",
       "      <td>...</td>\n",
       "      <td>...</td>\n",
       "      <td>...</td>\n",
       "      <td>...</td>\n",
       "      <td>...</td>\n",
       "      <td>...</td>\n",
       "      <td>...</td>\n",
       "      <td>...</td>\n",
       "      <td>...</td>\n",
       "      <td>...</td>\n",
       "      <td>...</td>\n",
       "    </tr>\n",
       "    <tr>\n",
       "      <th>886</th>\n",
       "      <td>0</td>\n",
       "      <td>2</td>\n",
       "      <td>27.0</td>\n",
       "      <td>0</td>\n",
       "      <td>0</td>\n",
       "      <td>13.0000</td>\n",
       "      <td>0</td>\n",
       "      <td>1</td>\n",
       "      <td>0</td>\n",
       "      <td>0</td>\n",
       "      <td>1</td>\n",
       "    </tr>\n",
       "    <tr>\n",
       "      <th>887</th>\n",
       "      <td>1</td>\n",
       "      <td>1</td>\n",
       "      <td>19.0</td>\n",
       "      <td>0</td>\n",
       "      <td>0</td>\n",
       "      <td>30.0000</td>\n",
       "      <td>1</td>\n",
       "      <td>0</td>\n",
       "      <td>0</td>\n",
       "      <td>0</td>\n",
       "      <td>1</td>\n",
       "    </tr>\n",
       "    <tr>\n",
       "      <th>888</th>\n",
       "      <td>0</td>\n",
       "      <td>3</td>\n",
       "      <td>NaN</td>\n",
       "      <td>1</td>\n",
       "      <td>2</td>\n",
       "      <td>23.4500</td>\n",
       "      <td>1</td>\n",
       "      <td>0</td>\n",
       "      <td>0</td>\n",
       "      <td>0</td>\n",
       "      <td>1</td>\n",
       "    </tr>\n",
       "    <tr>\n",
       "      <th>889</th>\n",
       "      <td>1</td>\n",
       "      <td>1</td>\n",
       "      <td>26.0</td>\n",
       "      <td>0</td>\n",
       "      <td>0</td>\n",
       "      <td>30.0000</td>\n",
       "      <td>0</td>\n",
       "      <td>1</td>\n",
       "      <td>1</td>\n",
       "      <td>0</td>\n",
       "      <td>0</td>\n",
       "    </tr>\n",
       "    <tr>\n",
       "      <th>890</th>\n",
       "      <td>0</td>\n",
       "      <td>3</td>\n",
       "      <td>32.0</td>\n",
       "      <td>0</td>\n",
       "      <td>0</td>\n",
       "      <td>7.7500</td>\n",
       "      <td>0</td>\n",
       "      <td>1</td>\n",
       "      <td>0</td>\n",
       "      <td>1</td>\n",
       "      <td>0</td>\n",
       "    </tr>\n",
       "  </tbody>\n",
       "</table>\n",
       "<p>891 rows × 11 columns</p>\n",
       "</div>"
      ],
      "text/plain": [
       "     Survived  Pclass   Age  SibSp  Parch     Fare  Sex_female  Sex_male  \\\n",
       "0           0       3  22.0      1      0   7.2500           0         1   \n",
       "1           1       1  38.0      1      0  71.2833           1         0   \n",
       "2           1       3  26.0      0      0   7.9250           1         0   \n",
       "3           1       1  35.0      1      0  53.1000           1         0   \n",
       "4           0       3  35.0      0      0   8.0500           0         1   \n",
       "..        ...     ...   ...    ...    ...      ...         ...       ...   \n",
       "886         0       2  27.0      0      0  13.0000           0         1   \n",
       "887         1       1  19.0      0      0  30.0000           1         0   \n",
       "888         0       3   NaN      1      2  23.4500           1         0   \n",
       "889         1       1  26.0      0      0  30.0000           0         1   \n",
       "890         0       3  32.0      0      0   7.7500           0         1   \n",
       "\n",
       "     Embarked_C  Embarked_Q  Embarked_S  \n",
       "0             0           0           1  \n",
       "1             1           0           0  \n",
       "2             0           0           1  \n",
       "3             0           0           1  \n",
       "4             0           0           1  \n",
       "..          ...         ...         ...  \n",
       "886           0           0           1  \n",
       "887           0           0           1  \n",
       "888           0           0           1  \n",
       "889           1           0           0  \n",
       "890           0           1           0  \n",
       "\n",
       "[891 rows x 11 columns]"
      ]
     },
     "execution_count": 236,
     "metadata": {},
     "output_type": "execute_result"
    }
   ],
   "source": [
    "df_pca"
   ]
  },
  {
   "cell_type": "markdown",
   "metadata": {},
   "source": [
    "### Estrategia para tratar con valores faltantes"
   ]
  },
  {
   "cell_type": "markdown",
   "metadata": {},
   "source": [
    "Checamos NaNs en las columnas"
   ]
  },
  {
   "cell_type": "code",
   "execution_count": 237,
   "metadata": {},
   "outputs": [
    {
     "name": "stdout",
     "output_type": "stream",
     "text": [
      "Survived NaNs -> 0\n",
      "Pclass NaNs -> 0\n",
      "Age NaNs -> 177\n",
      "SibSp NaNs -> 0\n",
      "Parch NaNs -> 0\n",
      "Fare NaNs -> 0\n",
      "Sex_female NaNs -> 0\n",
      "Sex_male NaNs -> 0\n",
      "Embarked_C NaNs -> 0\n",
      "Embarked_Q NaNs -> 0\n",
      "Embarked_S NaNs -> 0\n"
     ]
    }
   ],
   "source": [
    "for c in list(df_pca.columns.values):\n",
    "    print(c + ' NaNs -> ' + str(df_pca[c].isnull().sum()))"
   ]
  },
  {
   "cell_type": "markdown",
   "metadata": {},
   "source": [
    "Obtenemos distribución de la edad y también las posiciones donde existen valores NaN en dicha columna"
   ]
  },
  {
   "cell_type": "code",
   "execution_count": 238,
   "metadata": {
    "scrolled": true
   },
   "outputs": [],
   "source": [
    "age = df_pca.Age\n",
    "age_vc = age.value_counts(normalize = True)\n",
    "age_values = list(age_vc.index)\n",
    "age_counts = list(age_vc.values)"
   ]
  },
  {
   "cell_type": "code",
   "execution_count": 239,
   "metadata": {},
   "outputs": [],
   "source": [
    "index_nan = list(df_pca.Age.index[df_pca.Age.apply(np.isnan)])"
   ]
  },
  {
   "cell_type": "markdown",
   "metadata": {},
   "source": [
    "**Opción 1:** Obtenemos la distribución de la edad para imputar los valores NaNs con una muestra de tal distribución"
   ]
  },
  {
   "cell_type": "code",
   "execution_count": 240,
   "metadata": {},
   "outputs": [],
   "source": [
    "#rand_sample = np.random.choice(age_values, 177, p=age_counts)"
   ]
  },
  {
   "cell_type": "code",
   "execution_count": 241,
   "metadata": {},
   "outputs": [],
   "source": [
    "#df_pca.Age[index_nan] = rand_sample"
   ]
  },
  {
   "cell_type": "markdown",
   "metadata": {},
   "source": [
    "**Opción 2:** Obtenemos la moda para imputar los valores NaNs"
   ]
  },
  {
   "cell_type": "code",
   "execution_count": 242,
   "metadata": {},
   "outputs": [],
   "source": [
    "#pos_moda = np.argmax(age_counts)"
   ]
  },
  {
   "cell_type": "code",
   "execution_count": 243,
   "metadata": {},
   "outputs": [],
   "source": [
    "#df_pca.Age[index_nan] = age_values[pos_moda]"
   ]
  },
  {
   "cell_type": "markdown",
   "metadata": {},
   "source": [
    "**Opción 3:** Obtenemos la media para imputar los valores NaNs"
   ]
  },
  {
   "cell_type": "code",
   "execution_count": 244,
   "metadata": {},
   "outputs": [
    {
     "name": "stderr",
     "output_type": "stream",
     "text": [
      "C:\\Users\\ADMIN\\AppData\\Local\\Temp\\ipykernel_25900\\1702954317.py:1: SettingWithCopyWarning: \n",
      "A value is trying to be set on a copy of a slice from a DataFrame\n",
      "\n",
      "See the caveats in the documentation: https://pandas.pydata.org/pandas-docs/stable/user_guide/indexing.html#returning-a-view-versus-a-copy\n",
      "  df_pca.Age[index_nan] = age.mean()\n"
     ]
    }
   ],
   "source": [
    "df_pca.Age[index_nan] = age.mean()"
   ]
  },
  {
   "cell_type": "markdown",
   "metadata": {},
   "source": [
    "Verificamos que ya no hay más valores NaNs"
   ]
  },
  {
   "cell_type": "code",
   "execution_count": 245,
   "metadata": {},
   "outputs": [
    {
     "name": "stdout",
     "output_type": "stream",
     "text": [
      "Survived NaNs -> 0\n",
      "Pclass NaNs -> 0\n",
      "Age NaNs -> 0\n",
      "SibSp NaNs -> 0\n",
      "Parch NaNs -> 0\n",
      "Fare NaNs -> 0\n",
      "Sex_female NaNs -> 0\n",
      "Sex_male NaNs -> 0\n",
      "Embarked_C NaNs -> 0\n",
      "Embarked_Q NaNs -> 0\n",
      "Embarked_S NaNs -> 0\n"
     ]
    }
   ],
   "source": [
    "for c in list(df_pca.columns.values):\n",
    "    print(c + ' NaNs -> ' + str(df_pca[c].isnull().sum()))"
   ]
  },
  {
   "cell_type": "markdown",
   "metadata": {},
   "source": [
    "### Implementación de Análisis de Componentes Principales (PCA)"
   ]
  },
  {
   "cell_type": "markdown",
   "metadata": {},
   "source": [
    "Creamos la función que implementa como tal el PCA y otras funciones auxiliares"
   ]
  },
  {
   "cell_type": "code",
   "execution_count": 246,
   "metadata": {},
   "outputs": [],
   "source": [
    "def scale_column(x):\n",
    "    #return (x - x.mean()) / ((x.var())**(1/2))\n",
    "    return (x - x.mean())"
   ]
  },
  {
   "cell_type": "code",
   "execution_count": 247,
   "metadata": {},
   "outputs": [],
   "source": [
    "def scale_data(data):\n",
    "    cols = data.columns.values\n",
    "    for c in cols:\n",
    "        column = data[c]\n",
    "        sc_column = scale_column(column)\n",
    "        data[c] = sc_column\n",
    "    return data"
   ]
  },
  {
   "cell_type": "markdown",
   "metadata": {},
   "source": [
    "Ejecutamos la función para obtener los vectores de pesos y los scores del PCA"
   ]
  },
  {
   "cell_type": "code",
   "execution_count": 248,
   "metadata": {},
   "outputs": [],
   "source": [
    "df_pca_scaled = scale_data(df_pca)"
   ]
  },
  {
   "cell_type": "code",
   "execution_count": 249,
   "metadata": {},
   "outputs": [
    {
     "data": {
      "text/html": [
       "<div>\n",
       "<style scoped>\n",
       "    .dataframe tbody tr th:only-of-type {\n",
       "        vertical-align: middle;\n",
       "    }\n",
       "\n",
       "    .dataframe tbody tr th {\n",
       "        vertical-align: top;\n",
       "    }\n",
       "\n",
       "    .dataframe thead th {\n",
       "        text-align: right;\n",
       "    }\n",
       "</style>\n",
       "<table border=\"1\" class=\"dataframe\">\n",
       "  <thead>\n",
       "    <tr style=\"text-align: right;\">\n",
       "      <th></th>\n",
       "      <th>Survived</th>\n",
       "      <th>Pclass</th>\n",
       "      <th>Age</th>\n",
       "      <th>SibSp</th>\n",
       "      <th>Parch</th>\n",
       "      <th>Fare</th>\n",
       "      <th>Sex_female</th>\n",
       "      <th>Sex_male</th>\n",
       "      <th>Embarked_C</th>\n",
       "      <th>Embarked_Q</th>\n",
       "      <th>Embarked_S</th>\n",
       "    </tr>\n",
       "  </thead>\n",
       "  <tbody>\n",
       "    <tr>\n",
       "      <th>0</th>\n",
       "      <td>-0.383838</td>\n",
       "      <td>0.691358</td>\n",
       "      <td>-7.699118e+00</td>\n",
       "      <td>0.476992</td>\n",
       "      <td>-0.381594</td>\n",
       "      <td>-24.954208</td>\n",
       "      <td>-0.352413</td>\n",
       "      <td>0.352413</td>\n",
       "      <td>-0.188552</td>\n",
       "      <td>-0.08642</td>\n",
       "      <td>0.277217</td>\n",
       "    </tr>\n",
       "    <tr>\n",
       "      <th>1</th>\n",
       "      <td>0.616162</td>\n",
       "      <td>-1.308642</td>\n",
       "      <td>8.300882e+00</td>\n",
       "      <td>0.476992</td>\n",
       "      <td>-0.381594</td>\n",
       "      <td>39.079092</td>\n",
       "      <td>0.647587</td>\n",
       "      <td>-0.647587</td>\n",
       "      <td>0.811448</td>\n",
       "      <td>-0.08642</td>\n",
       "      <td>-0.722783</td>\n",
       "    </tr>\n",
       "    <tr>\n",
       "      <th>2</th>\n",
       "      <td>0.616162</td>\n",
       "      <td>0.691358</td>\n",
       "      <td>-3.699118e+00</td>\n",
       "      <td>-0.523008</td>\n",
       "      <td>-0.381594</td>\n",
       "      <td>-24.279208</td>\n",
       "      <td>0.647587</td>\n",
       "      <td>-0.647587</td>\n",
       "      <td>-0.188552</td>\n",
       "      <td>-0.08642</td>\n",
       "      <td>0.277217</td>\n",
       "    </tr>\n",
       "    <tr>\n",
       "      <th>3</th>\n",
       "      <td>0.616162</td>\n",
       "      <td>-1.308642</td>\n",
       "      <td>5.300882e+00</td>\n",
       "      <td>0.476992</td>\n",
       "      <td>-0.381594</td>\n",
       "      <td>20.895792</td>\n",
       "      <td>0.647587</td>\n",
       "      <td>-0.647587</td>\n",
       "      <td>-0.188552</td>\n",
       "      <td>-0.08642</td>\n",
       "      <td>0.277217</td>\n",
       "    </tr>\n",
       "    <tr>\n",
       "      <th>4</th>\n",
       "      <td>-0.383838</td>\n",
       "      <td>0.691358</td>\n",
       "      <td>5.300882e+00</td>\n",
       "      <td>-0.523008</td>\n",
       "      <td>-0.381594</td>\n",
       "      <td>-24.154208</td>\n",
       "      <td>-0.352413</td>\n",
       "      <td>0.352413</td>\n",
       "      <td>-0.188552</td>\n",
       "      <td>-0.08642</td>\n",
       "      <td>0.277217</td>\n",
       "    </tr>\n",
       "    <tr>\n",
       "      <th>...</th>\n",
       "      <td>...</td>\n",
       "      <td>...</td>\n",
       "      <td>...</td>\n",
       "      <td>...</td>\n",
       "      <td>...</td>\n",
       "      <td>...</td>\n",
       "      <td>...</td>\n",
       "      <td>...</td>\n",
       "      <td>...</td>\n",
       "      <td>...</td>\n",
       "      <td>...</td>\n",
       "    </tr>\n",
       "    <tr>\n",
       "      <th>886</th>\n",
       "      <td>-0.383838</td>\n",
       "      <td>-0.308642</td>\n",
       "      <td>-2.699118e+00</td>\n",
       "      <td>-0.523008</td>\n",
       "      <td>-0.381594</td>\n",
       "      <td>-19.204208</td>\n",
       "      <td>-0.352413</td>\n",
       "      <td>0.352413</td>\n",
       "      <td>-0.188552</td>\n",
       "      <td>-0.08642</td>\n",
       "      <td>0.277217</td>\n",
       "    </tr>\n",
       "    <tr>\n",
       "      <th>887</th>\n",
       "      <td>0.616162</td>\n",
       "      <td>-1.308642</td>\n",
       "      <td>-1.069912e+01</td>\n",
       "      <td>-0.523008</td>\n",
       "      <td>-0.381594</td>\n",
       "      <td>-2.204208</td>\n",
       "      <td>0.647587</td>\n",
       "      <td>-0.647587</td>\n",
       "      <td>-0.188552</td>\n",
       "      <td>-0.08642</td>\n",
       "      <td>0.277217</td>\n",
       "    </tr>\n",
       "    <tr>\n",
       "      <th>888</th>\n",
       "      <td>-0.383838</td>\n",
       "      <td>0.691358</td>\n",
       "      <td>5.684342e-14</td>\n",
       "      <td>0.476992</td>\n",
       "      <td>1.618406</td>\n",
       "      <td>-8.754208</td>\n",
       "      <td>0.647587</td>\n",
       "      <td>-0.647587</td>\n",
       "      <td>-0.188552</td>\n",
       "      <td>-0.08642</td>\n",
       "      <td>0.277217</td>\n",
       "    </tr>\n",
       "    <tr>\n",
       "      <th>889</th>\n",
       "      <td>0.616162</td>\n",
       "      <td>-1.308642</td>\n",
       "      <td>-3.699118e+00</td>\n",
       "      <td>-0.523008</td>\n",
       "      <td>-0.381594</td>\n",
       "      <td>-2.204208</td>\n",
       "      <td>-0.352413</td>\n",
       "      <td>0.352413</td>\n",
       "      <td>0.811448</td>\n",
       "      <td>-0.08642</td>\n",
       "      <td>-0.722783</td>\n",
       "    </tr>\n",
       "    <tr>\n",
       "      <th>890</th>\n",
       "      <td>-0.383838</td>\n",
       "      <td>0.691358</td>\n",
       "      <td>2.300882e+00</td>\n",
       "      <td>-0.523008</td>\n",
       "      <td>-0.381594</td>\n",
       "      <td>-24.454208</td>\n",
       "      <td>-0.352413</td>\n",
       "      <td>0.352413</td>\n",
       "      <td>-0.188552</td>\n",
       "      <td>0.91358</td>\n",
       "      <td>-0.722783</td>\n",
       "    </tr>\n",
       "  </tbody>\n",
       "</table>\n",
       "<p>891 rows × 11 columns</p>\n",
       "</div>"
      ],
      "text/plain": [
       "     Survived    Pclass           Age     SibSp     Parch       Fare  \\\n",
       "0   -0.383838  0.691358 -7.699118e+00  0.476992 -0.381594 -24.954208   \n",
       "1    0.616162 -1.308642  8.300882e+00  0.476992 -0.381594  39.079092   \n",
       "2    0.616162  0.691358 -3.699118e+00 -0.523008 -0.381594 -24.279208   \n",
       "3    0.616162 -1.308642  5.300882e+00  0.476992 -0.381594  20.895792   \n",
       "4   -0.383838  0.691358  5.300882e+00 -0.523008 -0.381594 -24.154208   \n",
       "..        ...       ...           ...       ...       ...        ...   \n",
       "886 -0.383838 -0.308642 -2.699118e+00 -0.523008 -0.381594 -19.204208   \n",
       "887  0.616162 -1.308642 -1.069912e+01 -0.523008 -0.381594  -2.204208   \n",
       "888 -0.383838  0.691358  5.684342e-14  0.476992  1.618406  -8.754208   \n",
       "889  0.616162 -1.308642 -3.699118e+00 -0.523008 -0.381594  -2.204208   \n",
       "890 -0.383838  0.691358  2.300882e+00 -0.523008 -0.381594 -24.454208   \n",
       "\n",
       "     Sex_female  Sex_male  Embarked_C  Embarked_Q  Embarked_S  \n",
       "0     -0.352413  0.352413   -0.188552    -0.08642    0.277217  \n",
       "1      0.647587 -0.647587    0.811448    -0.08642   -0.722783  \n",
       "2      0.647587 -0.647587   -0.188552    -0.08642    0.277217  \n",
       "3      0.647587 -0.647587   -0.188552    -0.08642    0.277217  \n",
       "4     -0.352413  0.352413   -0.188552    -0.08642    0.277217  \n",
       "..          ...       ...         ...         ...         ...  \n",
       "886   -0.352413  0.352413   -0.188552    -0.08642    0.277217  \n",
       "887    0.647587 -0.647587   -0.188552    -0.08642    0.277217  \n",
       "888    0.647587 -0.647587   -0.188552    -0.08642    0.277217  \n",
       "889   -0.352413  0.352413    0.811448    -0.08642   -0.722783  \n",
       "890   -0.352413  0.352413   -0.188552     0.91358   -0.722783  \n",
       "\n",
       "[891 rows x 11 columns]"
      ]
     },
     "execution_count": 249,
     "metadata": {},
     "output_type": "execute_result"
    }
   ],
   "source": [
    "df_pca_scaled"
   ]
  },
  {
   "cell_type": "code",
   "execution_count": 250,
   "metadata": {},
   "outputs": [],
   "source": [
    "def PCA(X):\n",
    "    # Adaptamos la data y calculamos su matriz de covs\n",
    "    X_array = X.to_numpy()\n",
    "    cov_mat = np.cov(X_array.T)\n",
    "    #print(cov_mat)\n",
    "    \n",
    "    # Calculamos los w para maximizar la varianza\n",
    "    eigen_val, eigen_vec = np.linalg.eig(cov_mat)\n",
    "    print(eigen_vec)\n",
    "    \n",
    "    # Ordenamos acorde al eigenvalue\n",
    "    #eigen = [(val, vec) for val, vec in zip(eigen_val, eigen_vec)]\n",
    "    #eigen.sort(key = lambda x: x[0], reverse=True)\n",
    "    #eigen_vectors = np.array(list(zip(*eigen))[1])\n",
    "    \n",
    "    indexes = eigen_val.argsort()[::-1]\n",
    "    eigen_vectors = eigen_vec[:, indexes]\n",
    "    \n",
    "    # Obtenemos los pca_scores\n",
    "    pca_scores = X_array @ eigen_vectors\n",
    "    \n",
    "    return eigen_vectors, pca_scores"
   ]
  },
  {
   "cell_type": "code",
   "execution_count": 251,
   "metadata": {},
   "outputs": [
    {
     "name": "stdout",
     "output_type": "stream",
     "text": [
      "[[-2.51305439e-03  3.58120870e-03 -4.53512922e-02  4.21442479e-01\n",
      "   1.65683017e-01  1.21315673e-01 -7.65205690e-02  8.77245676e-01\n",
      "  -5.22063655e-02 -1.05995841e-03 -2.42196714e-15]\n",
      " [ 9.27482092e-03  1.80414861e-02  1.28036481e-01 -3.52743020e-01\n",
      "  -6.06218011e-01  6.42212749e-01 -1.40978576e-01  1.79705052e-01\n",
      "  -1.63276083e-01  1.43774075e-03 -1.79893411e-15]\n",
      " [-2.56932448e-02 -9.99176696e-01  2.68695845e-02  1.53281901e-04\n",
      "  -9.95388331e-03  1.11726421e-02 -1.60253852e-03  5.33933518e-03\n",
      "  -2.96449428e-03 -1.26527438e-04 -2.69082855e-17]\n",
      " [-3.50607172e-03  2.14077823e-02  8.92831020e-01 -1.62839736e-01\n",
      "   4.04199186e-01  1.04873309e-01  1.51357507e-02  3.41986547e-02\n",
      "  -9.55882181e-03  2.61689617e-05 -9.34905454e-17]\n",
      " [-3.48532148e-03  1.26196770e-02  4.13565245e-01  3.87405891e-01\n",
      "  -6.55614865e-01 -4.37829571e-01  2.30218845e-01  4.25556754e-02\n",
      "   4.86941065e-02  8.09996349e-04 -9.53905376e-17]\n",
      " [-9.99604812e-01  2.57092426e-02 -3.97020874e-03 -7.16375663e-03\n",
      "  -5.27935713e-03  4.74871952e-03 -3.41397613e-03  3.09803833e-04\n",
      "  -9.78856003e-06 -6.65240196e-06 -1.50382862e-17]\n",
      " [-1.74727737e-03  3.80228546e-03  5.76756015e-02  5.04229502e-01\n",
      "   2.51869038e-02  3.20854920e-01 -2.05437223e-01 -3.08562504e-01\n",
      "  -3.75333114e-02 -1.53073381e-03 -7.07106781e-01]\n",
      " [ 1.74727737e-03 -3.80228546e-03 -5.76756015e-02 -5.04229502e-01\n",
      "  -2.51869038e-02 -3.20854920e-01  2.05437223e-01  3.08562504e-01\n",
      "   3.75333114e-02  1.53073381e-03 -7.07106781e-01]\n",
      " [-2.12101464e-03 -1.79099340e-04 -5.21993860e-02  7.62304165e-02\n",
      "   8.11005585e-02  1.35167375e-01  5.80649138e-01 -5.56943047e-02\n",
      "  -5.42945404e-01 -5.75818642e-01 -1.51844045e-14]\n",
      " [ 6.63135296e-04  5.42293322e-05 -3.93819493e-03  3.54098758e-03\n",
      "  -2.83969324e-02  1.92304525e-01  1.16666048e-01  3.28459250e-02\n",
      "   7.81435343e-01 -5.80390452e-01 -1.47597206e-14]\n",
      " [ 1.50181059e-03  3.80658053e-04  5.68814933e-02 -8.35987715e-02\n",
      "  -5.53319864e-02 -3.29935994e-01 -6.97031075e-01  2.31221081e-02\n",
      "  -2.44736053e-01 -5.75822251e-01 -1.55406598e-14]]\n"
     ]
    }
   ],
   "source": [
    "eigen_vectors, pca_scores = PCA(df_pca_scaled)"
   ]
  },
  {
   "cell_type": "code",
   "execution_count": 252,
   "metadata": {
    "scrolled": false
   },
   "outputs": [
    {
     "data": {
      "text/plain": [
       "array([[-2.51305439e-03,  3.58120870e-03, -4.53512922e-02,\n",
       "         4.21442479e-01,  1.65683017e-01,  1.21315673e-01,\n",
       "        -7.65205690e-02,  8.77245676e-01, -5.22063655e-02,\n",
       "        -1.05995841e-03, -2.42196714e-15],\n",
       "       [ 9.27482092e-03,  1.80414861e-02,  1.28036481e-01,\n",
       "        -3.52743020e-01, -6.06218011e-01,  6.42212749e-01,\n",
       "        -1.40978576e-01,  1.79705052e-01, -1.63276083e-01,\n",
       "         1.43774075e-03, -1.79893411e-15],\n",
       "       [-2.56932448e-02, -9.99176696e-01,  2.68695845e-02,\n",
       "         1.53281901e-04, -9.95388331e-03,  1.11726421e-02,\n",
       "        -1.60253852e-03,  5.33933518e-03, -2.96449428e-03,\n",
       "        -1.26527438e-04, -2.69082855e-17],\n",
       "       [-3.50607172e-03,  2.14077823e-02,  8.92831020e-01,\n",
       "        -1.62839736e-01,  4.04199186e-01,  1.04873309e-01,\n",
       "         1.51357507e-02,  3.41986547e-02, -9.55882181e-03,\n",
       "         2.61689617e-05, -9.34905454e-17],\n",
       "       [-3.48532148e-03,  1.26196770e-02,  4.13565245e-01,\n",
       "         3.87405891e-01, -6.55614865e-01, -4.37829571e-01,\n",
       "         2.30218845e-01,  4.25556754e-02,  4.86941065e-02,\n",
       "         8.09996349e-04, -9.53905376e-17],\n",
       "       [-9.99604812e-01,  2.57092426e-02, -3.97020874e-03,\n",
       "        -7.16375663e-03, -5.27935713e-03,  4.74871952e-03,\n",
       "        -3.41397613e-03,  3.09803833e-04, -9.78856003e-06,\n",
       "        -6.65240196e-06, -1.50382862e-17],\n",
       "       [-1.74727737e-03,  3.80228546e-03,  5.76756015e-02,\n",
       "         5.04229502e-01,  2.51869038e-02,  3.20854920e-01,\n",
       "        -2.05437223e-01, -3.08562504e-01, -3.75333114e-02,\n",
       "        -1.53073381e-03, -7.07106781e-01],\n",
       "       [ 1.74727737e-03, -3.80228546e-03, -5.76756015e-02,\n",
       "        -5.04229502e-01, -2.51869038e-02, -3.20854920e-01,\n",
       "         2.05437223e-01,  3.08562504e-01,  3.75333114e-02,\n",
       "         1.53073381e-03, -7.07106781e-01],\n",
       "       [-2.12101464e-03, -1.79099340e-04, -5.21993860e-02,\n",
       "         7.62304165e-02,  8.11005585e-02,  1.35167375e-01,\n",
       "         5.80649138e-01, -5.56943047e-02, -5.42945404e-01,\n",
       "        -5.75818642e-01, -1.51844045e-14],\n",
       "       [ 6.63135296e-04,  5.42293322e-05, -3.93819493e-03,\n",
       "         3.54098758e-03, -2.83969324e-02,  1.92304525e-01,\n",
       "         1.16666048e-01,  3.28459250e-02,  7.81435343e-01,\n",
       "        -5.80390452e-01, -1.47597206e-14],\n",
       "       [ 1.50181059e-03,  3.80658053e-04,  5.68814933e-02,\n",
       "        -8.35987715e-02, -5.53319864e-02, -3.29935994e-01,\n",
       "        -6.97031075e-01,  2.31221081e-02, -2.44736053e-01,\n",
       "        -5.75822251e-01, -1.55406598e-14]])"
      ]
     },
     "execution_count": 252,
     "metadata": {},
     "output_type": "execute_result"
    }
   ],
   "source": [
    "eigen_vectors"
   ]
  },
  {
   "cell_type": "code",
   "execution_count": 253,
   "metadata": {},
   "outputs": [
    {
     "data": {
      "text/plain": [
       "11"
      ]
     },
     "execution_count": 253,
     "metadata": {},
     "output_type": "execute_result"
    }
   ],
   "source": [
    "len(eigen_vectors)"
   ]
  },
  {
   "cell_type": "code",
   "execution_count": 254,
   "metadata": {},
   "outputs": [
    {
     "data": {
      "text/plain": [
       "array([[ 2.51511866e+01,  7.06517408e+00,  2.51487297e-01, ...,\n",
       "        -9.94643641e-02,  2.42486720e-03, -1.04363152e-15],\n",
       "       [-3.92960802e+01, -7.30086236e+00,  1.32021152e-01, ...,\n",
       "        -2.46453240e-01, -7.01884496e-03,  2.39349266e-15],\n",
       "       [ 2.43711788e+01,  3.07559903e+00, -4.66545366e-01, ...,\n",
       "        -2.29043115e-01, -2.23332793e-03, -1.83208680e-16],\n",
       "       ...,\n",
       "       [ 8.74930811e+00, -1.78271198e-01,  1.33652370e+00, ...,\n",
       "        -1.00125339e-01, -9.85262768e-05,  1.59314816e-15],\n",
       "       [ 2.28622468e+00,  3.59888326e+00, -1.03469277e+00, ...,\n",
       "        -1.25849760e-01, -2.19058393e-03,  1.45291033e-16],\n",
       "       [ 2.43971191e+01, -2.93547247e+00, -4.35452671e-01, ...,\n",
       "         9.06616016e-01, -3.43810333e-03, -4.56981314e-16]])"
      ]
     },
     "execution_count": 254,
     "metadata": {},
     "output_type": "execute_result"
    }
   ],
   "source": [
    "pca_scores"
   ]
  },
  {
   "cell_type": "markdown",
   "metadata": {},
   "source": [
    "Creamos función para graficar Biplot que nos permita entender los resultados del PCA"
   ]
  },
  {
   "cell_type": "code",
   "execution_count": 255,
   "metadata": {},
   "outputs": [],
   "source": [
    "def biplot(scores, vectors, labels=None):\n",
    "    xs = scores[:, 0]\n",
    "    ys = scores[:, 1]\n",
    "    n = vectors[0].shape[0]\n",
    "    scalex = 1.0 / (xs.max() - xs.min())\n",
    "    scaley = 1.0 / (ys.max() - ys.min())\n",
    "    #scalex = 1\n",
    "    #scaley = 1\n",
    "    plt.figure(figsize=(10, 10))\n",
    "    plt.title('Biplot of PCA')\n",
    "    plt.scatter(xs * scalex, ys * scaley, s = 2, color='cyan')\n",
    "    \n",
    "    for i in range(n):\n",
    "        plt.arrow(0, 0, vectors[0][i], vectors[1][i], color = 'darkblue', alpha = 0.5)\n",
    "        plt.text(vectors[0][i]* 1.05, vectors[1][i] * 1.05, labels[i], color = 'darkblue', ha = 'center', va = 'center')\n",
    " \n",
    "    plt.xlabel(\"PC{}\".format(1))\n",
    "    plt.ylabel(\"PC{}\".format(2))    \n",
    " \n",
    "    plt.figure()"
   ]
  },
  {
   "cell_type": "code",
   "execution_count": 256,
   "metadata": {
    "scrolled": false
   },
   "outputs": [
    {
     "data": {
      "image/png": "[encoded data removed]",
      "text/plain": [
       "<Figure size 720x720 with 1 Axes>"
      ]
     },
     "metadata": {
      "needs_background": "light"
     },
     "output_type": "display_data"
    },
    {
     "data": {
      "text/plain": [
       "<Figure size 432x288 with 0 Axes>"
      ]
     },
     "metadata": {},
     "output_type": "display_data"
    }
   ],
   "source": [
    "biplot(pca_scores, eigen_vectors, df_pca.columns.values)"
   ]
  },
  {
   "cell_type": "code",
   "execution_count": null,
   "metadata": {},
   "outputs": [],
   "source": []
  }
 ],
 "metadata": {
  "kernelspec": {
   "display_name": "Python 3 (ipykernel)",
   "language": "python",
   "name": "python3"
  },
  "language_info": {
   "codemirror_mode": {
    "name": "ipython",
    "version": 3
   },
   "file_extension": ".py",
   "mimetype": "text/x-python",
   "name": "python",
   "nbconvert_exporter": "python",
   "pygments_lexer": "ipython3",
   "version": "3.9.12"
  }
 },
 "nbformat": 4,
 "nbformat_minor": 4
}
